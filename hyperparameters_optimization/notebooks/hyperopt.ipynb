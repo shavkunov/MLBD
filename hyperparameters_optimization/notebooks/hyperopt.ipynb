{
 "cells": [
  {
   "cell_type": "markdown",
   "metadata": {
    "toc": true
   },
   "source": [
    "<h1>Table of Contents<span class=\"tocSkip\"></span></h1>\n",
    "<div class=\"toc\"><ul class=\"toc-item\"><li><span><a href=\"#Spark-MLlib-Tuning\" data-toc-modified-id=\"Spark-MLlib-Tuning-1\"><span class=\"toc-item-num\">1&nbsp;&nbsp;</span><a href=\"https://spark.apache.org/docs/latest/ml-tuning.html\" target=\"_blank\">Spark MLlib Tuning</a></a></span></li><li><span><a href=\"#Hyperopt\" data-toc-modified-id=\"Hyperopt-2\"><span class=\"toc-item-num\">2&nbsp;&nbsp;</span><a href=\"https://github.com/hyperopt/hyperopt\" target=\"_blank\">Hyperopt</a></a></span><ul class=\"toc-item\"><li><span><a href=\"#XGBoost-Tuning\" data-toc-modified-id=\"XGBoost-Tuning-2.1\"><span class=\"toc-item-num\">2.1&nbsp;&nbsp;</span><a href=\"https://www.analyticsvidhya.com/blog/2016/03/complete-guide-parameter-tuning-xgboost-with-codes-python/\" target=\"_blank\">XGBoost Tuning</a></a></span><ul class=\"toc-item\"><li><span><a href=\"#Objective-function\" data-toc-modified-id=\"Objective-function-2.1.1\"><span class=\"toc-item-num\">2.1.1&nbsp;&nbsp;</span>Objective function</a></span></li><li><span><a href=\"#Tune-number-of-trees\" data-toc-modified-id=\"Tune-number-of-trees-2.1.2\"><span class=\"toc-item-num\">2.1.2&nbsp;&nbsp;</span>Tune number of trees</a></span></li><li><span><a href=\"#Tune-tree-specific-parameters\" data-toc-modified-id=\"Tune-tree-specific-parameters-2.1.3\"><span class=\"toc-item-num\">2.1.3&nbsp;&nbsp;</span>Tune tree-specific parameters</a></span><ul class=\"toc-item\"><li><span><a href=\"#Tune-max_depth,-min_child_weight\" data-toc-modified-id=\"Tune-max_depth,-min_child_weight-2.1.3.1\"><span class=\"toc-item-num\">2.1.3.1&nbsp;&nbsp;</span>Tune max_depth, min_child_weight</a></span></li><li><span><a href=\"#Tune-gamma\" data-toc-modified-id=\"Tune-gamma-2.1.3.2\"><span class=\"toc-item-num\">2.1.3.2&nbsp;&nbsp;</span>Tune gamma</a></span></li><li><span><a href=\"#Tune-subsample,-colsample_bytree\" data-toc-modified-id=\"Tune-subsample,-colsample_bytree-2.1.3.3\"><span class=\"toc-item-num\">2.1.3.3&nbsp;&nbsp;</span>Tune subsample, colsample_bytree</a></span></li></ul></li><li><span><a href=\"#Tune-regularization-parameters\" data-toc-modified-id=\"Tune-regularization-parameters-2.1.4\"><span class=\"toc-item-num\">2.1.4&nbsp;&nbsp;</span>Tune regularization parameters</a></span></li><li><span><a href=\"#Lower-the-learning-rate-and-decide-the-optimal-parameters\" data-toc-modified-id=\"Lower-the-learning-rate-and-decide-the-optimal-parameters-2.1.5\"><span class=\"toc-item-num\">2.1.5&nbsp;&nbsp;</span>Lower the learning rate and decide the optimal parameters</a></span></li></ul></li><li><span><a href=\"#LogisticRegression-Tuning\" data-toc-modified-id=\"LogisticRegression-Tuning-2.2\"><span class=\"toc-item-num\">2.2&nbsp;&nbsp;</span>LogisticRegression Tuning</a></span></li><li><span><a href=\"#Optional-MongoTrials\" data-toc-modified-id=\"Optional-MongoTrials-2.3\"><span class=\"toc-item-num\">2.3&nbsp;&nbsp;</span>Optional <a href=\"https://hyperopt.github.io/hyperopt/scaleout/mongodb/\" target=\"_blank\">MongoTrials</a></a></span><ul class=\"toc-item\"><li><span><a href=\"#XGBoost-Tuning\" data-toc-modified-id=\"XGBoost-Tuning-2.3.1\"><span class=\"toc-item-num\">2.3.1&nbsp;&nbsp;</span>XGBoost Tuning</a></span></li></ul></li></ul></li><li><span><a href=\"#Results\" data-toc-modified-id=\"Results-3\"><span class=\"toc-item-num\">3&nbsp;&nbsp;</span>Results</a></span></li></ul></div>"
   ]
  },
  {
   "cell_type": "markdown",
   "metadata": {},
   "source": [
    "Продолжаем работать над задачей CTR-prediction с использованием датасета от Criteo.\n",
    "\n",
    "Описание задачи и данных можно посмотреть в notebook'e предыдущей практики (`sgd_logreg_nn/notebooks/ctr_prediction_mllib.ipynb`)."
   ]
  },
  {
   "cell_type": "code",
   "execution_count": 1,
   "metadata": {},
   "outputs": [],
   "source": [
    "%matplotlib inline\n",
    "%config InlineBackend.figure_format ='retina'\n",
    "\n",
    "import os\n",
    "import sys\n",
    "import glob\n",
    "import pickle\n",
    "import seaborn as sns\n",
    "import matplotlib.pyplot as plt\n",
    "import numpy as np\n",
    "\n",
    "import pyspark\n",
    "import pyspark.sql.functions as F\n",
    "from pyspark.conf import SparkConf\n",
    "from pyspark.sql import SQLContext\n",
    "from pyspark.sql import SparkSession\n",
    "from pyspark.sql import Row\n",
    "\n",
    "COMMON_PATH = '/workspace/common'\n",
    "\n",
    "sys.path.append(os.path.join(COMMON_PATH, 'utils'))\n",
    "\n",
    "os.environ['PYSPARK_SUBMIT_ARGS'] = \"\"\"\n",
    "--jars {common}/xgboost4j-spark-0.72.jar,{common}/xgboost4j-0.72.jar\n",
    "--py-files {common}/sparkxgb.zip pyspark-shell\n",
    "\"\"\".format(common=COMMON_PATH).replace('\\n', ' ')\n",
    "\n",
    "spark = SparkSession \\\n",
    "    .builder \\\n",
    "    .master('local[*]') \\\n",
    "    .appName(\"spark_sql_examples\") \\\n",
    "    .config(\"spark.executor.memory\", \"23g\") \\\n",
    "    .config(\"spark.driver.memory\", \"23g\") \\\n",
    "    .getOrCreate()\n",
    "\n",
    "sc = spark.sparkContext\n",
    "sqlContext = SQLContext(sc)\n",
    "\n",
    "from metrics import rocauc, logloss, ne, get_ate\n",
    "from processing import split_by_col\n",
    "\n",
    "from sparkxgb.xgboost import *"
   ]
  },
  {
   "cell_type": "code",
   "execution_count": 2,
   "metadata": {},
   "outputs": [],
   "source": [
    "DATA_PATH = '/workspace/gradient_boosting/notebooks'\n",
    "\n",
    "TRAIN_PATH = os.path.join(DATA_PATH, 'train.csv')"
   ]
  },
  {
   "cell_type": "code",
   "execution_count": 3,
   "metadata": {},
   "outputs": [],
   "source": [
    "df = sqlContext.read.format(\"com.databricks.spark.csv\") \\\n",
    "    .option(\"delimiter\", \",\") \\\n",
    "    .option(\"header\", \"true\") \\\n",
    "    .option(\"inferSchema\", \"true\") \\\n",
    "    .load('file:///' + TRAIN_PATH)"
   ]
  },
  {
   "cell_type": "markdown",
   "metadata": {},
   "source": [
    "**Remark** Необязательно использовать половину датасета и всего две категориальные переменные. Можно использовать больше данных, если вам позволяет ваша конфигурация"
   ]
  },
  {
   "cell_type": "code",
   "execution_count": 5,
   "metadata": {},
   "outputs": [],
   "source": [
    "df = df.sample(False, 0.5)"
   ]
  },
  {
   "cell_type": "code",
   "execution_count": 6,
   "metadata": {},
   "outputs": [
    {
     "data": {
      "text/plain": [
       "(13, 2)"
      ]
     },
     "execution_count": 6,
     "metadata": {},
     "output_type": "execute_result"
    }
   ],
   "source": [
    "num_columns = ['_c{}'.format(i) for i in range(1, 14)]\n",
    "cat_columns = ['_c{}'.format(i) for i in range(14, 40)][:2]\n",
    "len(num_columns), len(cat_columns)"
   ]
  },
  {
   "cell_type": "code",
   "execution_count": 7,
   "metadata": {},
   "outputs": [],
   "source": [
    "df = df.fillna(0, subset=num_columns)"
   ]
  },
  {
   "cell_type": "code",
   "execution_count": 8,
   "metadata": {},
   "outputs": [],
   "source": [
    "from pyspark.ml import PipelineModel\n",
    "\n",
    "\n",
    "pipeline_model = PipelineModel.load(os.path.join(DATA_PATH, 'pipeline'))"
   ]
  },
  {
   "cell_type": "code",
   "execution_count": 9,
   "metadata": {},
   "outputs": [
    {
     "data": {
      "text/plain": [
       "1831000"
      ]
     },
     "execution_count": 9,
     "metadata": {},
     "output_type": "execute_result"
    }
   ],
   "source": [
    "df = pipeline_model \\\n",
    "    .transform(df) \\\n",
    "    .select(F.col('_c0').alias('label'), 'features', 'id') \\\n",
    "    .cache()\n",
    "\n",
    "df.count()"
   ]
  },
  {
   "cell_type": "code",
   "execution_count": 9,
   "metadata": {},
   "outputs": [],
   "source": [
    "train_df, val_df, test_df = split_by_col(df, 'id', [0.8, 0.1, 0.1])"
   ]
  },
  {
   "cell_type": "markdown",
   "metadata": {},
   "source": [
    "# [Spark MLlib Tuning](https://spark.apache.org/docs/latest/ml-tuning.html)\n",
    "\n",
    "У имеющегося в Spark'e метода HPO есть два существенных недостатка, которые делают его мало пригодным в контексте нашей задачи:\n",
    "\n",
    "1. `ParamGridBuilder` - поиск по сетке\n",
    "2. `TrainValidationSplit` - делит данные случайнм образом"
   ]
  },
  {
   "cell_type": "code",
   "execution_count": null,
   "metadata": {},
   "outputs": [],
   "source": []
  },
  {
   "cell_type": "markdown",
   "metadata": {},
   "source": [
    "# [Hyperopt](https://github.com/hyperopt/hyperopt)\n",
    "\n",
    "Установим `hyperopt`"
   ]
  },
  {
   "cell_type": "code",
   "execution_count": 4,
   "metadata": {},
   "outputs": [
    {
     "name": "stdout",
     "output_type": "stream",
     "text": [
      "Collecting hyperopt\n",
      "  Downloading hyperopt-0.2.3-py3-none-any.whl (1.9 MB)\n",
      "\u001b[K     |████████████████████████████████| 1.9 MB 1.7 MB/s eta 0:00:01\n",
      "\u001b[?25hCollecting future\n",
      "  Downloading future-0.18.2.tar.gz (829 kB)\n",
      "\u001b[K     |████████████████████████████████| 829 kB 60.4 MB/s eta 0:00:01\n",
      "\u001b[?25hRequirement already satisfied: six in /usr/lib/python3.5/site-packages (from hyperopt) (1.14.0)\n",
      "Collecting tqdm\n",
      "  Downloading tqdm-4.43.0-py2.py3-none-any.whl (59 kB)\n",
      "\u001b[K     |████████████████████████████████| 59 kB 5.0 MB/s  eta 0:00:01\n",
      "\u001b[?25hRequirement already satisfied: scipy in /usr/lib64/python3.5/site-packages (from hyperopt) (1.3.3)\n",
      "Collecting cloudpickle\n",
      "  Downloading cloudpickle-1.3.0-py2.py3-none-any.whl (26 kB)\n",
      "Collecting networkx==2.2\n",
      "  Downloading networkx-2.2.zip (1.7 MB)\n",
      "\u001b[K     |████████████████████████████████| 1.7 MB 66.5 MB/s eta 0:00:01\n",
      "\u001b[?25hRequirement already satisfied: numpy in /usr/lib64/python3.5/site-packages (from hyperopt) (1.17.2)\n",
      "Requirement already satisfied: decorator>=4.3.0 in /usr/lib/python3.5/site-packages (from networkx==2.2->hyperopt) (4.4.1)\n",
      "Installing collected packages: future, tqdm, cloudpickle, networkx, hyperopt\n",
      "    Running setup.py install for future ... \u001b[?25ldone\n",
      "\u001b[?25h    Running setup.py install for networkx ... \u001b[?25ldone\n",
      "\u001b[?25hSuccessfully installed cloudpickle-1.3.0 future-0.18.2 hyperopt-0.2.3 networkx-2.2 tqdm-4.43.0\n"
     ]
    }
   ],
   "source": [
    "!pip3.5 install hyperopt"
   ]
  },
  {
   "cell_type": "markdown",
   "metadata": {},
   "source": [
    "## [XGBoost Tuning](https://www.analyticsvidhya.com/blog/2016/03/complete-guide-parameter-tuning-xgboost-with-codes-python/)\n",
    "\n",
    "> [Notes on Parameter Tuning](https://xgboost.readthedocs.io/en/latest/tutorials/param_tuning.html)\n",
    "\n",
    "### Objective function"
   ]
  },
  {
   "cell_type": "code",
   "execution_count": 11,
   "metadata": {},
   "outputs": [],
   "source": [
    "from hyperopt import fmin, tpe, hp, Trials, STATUS_OK\n",
    "import scipy.stats as st\n",
    "\n",
    "\n",
    "def objective(space):\n",
    "    estimator = XGBoostEstimator(**space)\n",
    "    print('SPACE:', estimator._input_kwargs_processed())\n",
    "    success = False\n",
    "    attempts = 0\n",
    "    model = None\n",
    "    while not success and attempts < 2:\n",
    "        try:\n",
    "            model = estimator.fit(train_df)\n",
    "            success = True\n",
    "        except Exception as e:\n",
    "            attempts += 1\n",
    "            print(e)\n",
    "            print('Try again')\n",
    "        \n",
    "    log_loss = logloss(model, val_df, probabilities_col='probabilities')\n",
    "    roc_auc = rocauc(model, val_df, probabilities_col='probabilities')\n",
    "    \n",
    "    print('LOG-LOSS: {}, ROC-AUC: {}'.format(log_loss, roc_auc))\n",
    "\n",
    "    return {'loss': log_loss, 'rocauc': roc_auc, 'status': STATUS_OK }"
   ]
  },
  {
   "cell_type": "code",
   "execution_count": 19,
   "metadata": {},
   "outputs": [],
   "source": [
    "static_params = {\n",
    "    'featuresCol': \"features\", \n",
    "    'labelCol': \"label\", \n",
    "    'predictionCol': \"prediction\",\n",
    "    'eval_metric': 'logloss',\n",
    "    'objective': 'binary:logistic',\n",
    "    'nthread': 1,\n",
    "    'silent': 0,\n",
    "    'nworkers': 1\n",
    "}"
   ]
  },
  {
   "cell_type": "markdown",
   "metadata": {},
   "source": [
    "Fix baseline parameters and train baseline model"
   ]
  },
  {
   "cell_type": "code",
   "execution_count": 24,
   "metadata": {},
   "outputs": [],
   "source": [
    "CONTROL_NAME = 'xgb baseline'\n",
    "\n",
    "start_params = {\n",
    "    'colsample_bytree': 0.9,\n",
    "    'eta': 0.15,\n",
    "    'gamma': 0.9,\n",
    "    'max_depth': 6,\n",
    "    'min_child_weight': 50.0,\n",
    "    'subsample': 0.9,\n",
    "    'num_round': 20\n",
    "}\n",
    "\n",
    "baseline_model = XGBoostEstimator(**{**static_params, **start_params}).fit(train_df)"
   ]
  },
  {
   "cell_type": "code",
   "execution_count": 14,
   "metadata": {},
   "outputs": [
    {
     "data": {
      "text/plain": [
       "0.7267792837479905"
      ]
     },
     "execution_count": 14,
     "metadata": {},
     "output_type": "execute_result"
    }
   ],
   "source": [
    "baseline_rocauc = rocauc(baseline_model, val_df, probabilities_col='probabilities')\n",
    "baseline_rocauc"
   ]
  },
  {
   "cell_type": "code",
   "execution_count": 15,
   "metadata": {},
   "outputs": [],
   "source": [
    "all_metrics = {}"
   ]
  },
  {
   "cell_type": "code",
   "execution_count": 16,
   "metadata": {},
   "outputs": [],
   "source": [
    "baseline_test_metrics = {\n",
    "    'logloss': logloss(baseline_model, test_df, probabilities_col='probabilities'),\n",
    "    'rocauc': rocauc(baseline_model, test_df, probabilities_col='probabilities')\n",
    "}\n",
    "\n",
    "all_metrics[CONTROL_NAME] = baseline_test_metrics"
   ]
  },
  {
   "cell_type": "markdown",
   "metadata": {},
   "source": [
    "### Tune number of trees\n",
    "\n",
    "> Choose a relatively high learning rate. Generally a learning rate of 0.1 works but somewhere between 0.05 to 0.3 should work for different problems. Determine the optimum number of trees for this learning rate."
   ]
  },
  {
   "cell_type": "code",
   "execution_count": 17,
   "metadata": {
    "scrolled": true
   },
   "outputs": [
    {
     "name": "stdout",
     "output_type": "stream",
     "text": [
      "SPACE:                                                \n",
      "{'labelCol': 'label', 'nworkers': 1, 'nthread': 1, 'subsample': 0.9, 'eta': 0.15, 'eval_metric': 'logloss', 'gamma': 0.9, 'objective': 'binary:logistic', 'num_round': 40, 'max_depth': 6, 'silent': 0, 'predictionCol': 'prediction', 'colsample_bytree': 0.9, 'min_child_weight': 50.0, 'featuresCol': 'features'}\n",
      "LOG-LOSS: 0.5059750051229666, ROC-AUC: 0.7316424878716304\n",
      "SPACE:                                                                          \n",
      "{'labelCol': 'label', 'nworkers': 1, 'nthread': 1, 'subsample': 0.9, 'eta': 0.2, 'eval_metric': 'logloss', 'gamma': 0.9, 'objective': 'binary:logistic', 'num_round': 40, 'max_depth': 6, 'silent': 0, 'predictionCol': 'prediction', 'colsample_bytree': 0.9, 'min_child_weight': 50.0, 'featuresCol': 'features'}\n",
      "LOG-LOSS: 0.5049240827093872, ROC-AUC: 0.7328122734181619                       \n",
      "SPACE:                                                                          \n",
      "{'labelCol': 'label', 'nworkers': 1, 'nthread': 1, 'subsample': 0.9, 'eta': 0.2, 'eval_metric': 'logloss', 'gamma': 0.9, 'objective': 'binary:logistic', 'num_round': 40, 'max_depth': 6, 'silent': 0, 'predictionCol': 'prediction', 'colsample_bytree': 0.9, 'min_child_weight': 50.0, 'featuresCol': 'features'}\n",
      "LOG-LOSS: 0.5049240827093872, ROC-AUC: 0.7328122734181632                       \n",
      "SPACE:                                                                          \n",
      "{'labelCol': 'label', 'nworkers': 1, 'nthread': 1, 'subsample': 0.9, 'eta': 0.2, 'eval_metric': 'logloss', 'gamma': 0.9, 'objective': 'binary:logistic', 'num_round': 20, 'max_depth': 6, 'silent': 0, 'predictionCol': 'prediction', 'colsample_bytree': 0.9, 'min_child_weight': 50.0, 'featuresCol': 'features'}\n",
      "LOG-LOSS: 0.5082587340072368, ROC-AUC: 0.7280852174194221                       \n",
      "SPACE:                                                                          \n",
      "{'labelCol': 'label', 'nworkers': 1, 'nthread': 1, 'subsample': 0.9, 'eta': 0.1, 'eval_metric': 'logloss', 'gamma': 0.9, 'objective': 'binary:logistic', 'num_round': 40, 'max_depth': 6, 'silent': 0, 'predictionCol': 'prediction', 'colsample_bytree': 0.9, 'min_child_weight': 50.0, 'featuresCol': 'features'}\n",
      "LOG-LOSS: 0.5081171780686726, ROC-AUC: 0.7285588427283948                       \n",
      "SPACE:                                                                          \n",
      "{'labelCol': 'label', 'nworkers': 1, 'nthread': 1, 'subsample': 0.9, 'eta': 0.5, 'eval_metric': 'logloss', 'gamma': 0.9, 'objective': 'binary:logistic', 'num_round': 100, 'max_depth': 6, 'silent': 0, 'predictionCol': 'prediction', 'colsample_bytree': 0.9, 'min_child_weight': 50.0, 'featuresCol': 'features'}\n",
      "LOG-LOSS: 0.4999719312076353, ROC-AUC: 0.7394971362842147                       \n",
      "SPACE:                                                                          \n",
      "{'labelCol': 'label', 'nworkers': 1, 'nthread': 1, 'subsample': 0.9, 'eta': 0.5, 'eval_metric': 'logloss', 'gamma': 0.9, 'objective': 'binary:logistic', 'num_round': 10, 'max_depth': 6, 'silent': 0, 'predictionCol': 'prediction', 'colsample_bytree': 0.9, 'min_child_weight': 50.0, 'featuresCol': 'features'}\n",
      "LOG-LOSS: 0.507650216388002, ROC-AUC: 0.7286279533804144                        \n",
      "SPACE:                                                                          \n",
      "{'labelCol': 'label', 'nworkers': 1, 'nthread': 1, 'subsample': 0.9, 'eta': 0.5, 'eval_metric': 'logloss', 'gamma': 0.9, 'objective': 'binary:logistic', 'num_round': 40, 'max_depth': 6, 'silent': 0, 'predictionCol': 'prediction', 'colsample_bytree': 0.9, 'min_child_weight': 50.0, 'featuresCol': 'features'}\n",
      "LOG-LOSS: 0.5022198398514705, ROC-AUC: 0.7362830898596455                       \n",
      "SPACE:                                                                          \n",
      "{'labelCol': 'label', 'nworkers': 1, 'nthread': 1, 'subsample': 0.9, 'eta': 0.5, 'eval_metric': 'logloss', 'gamma': 0.9, 'objective': 'binary:logistic', 'num_round': 10, 'max_depth': 6, 'silent': 0, 'predictionCol': 'prediction', 'colsample_bytree': 0.9, 'min_child_weight': 50.0, 'featuresCol': 'features'}\n",
      "LOG-LOSS: 0.507650216388002, ROC-AUC: 0.728627953380413                         \n",
      "SPACE:                                                                          \n",
      "{'labelCol': 'label', 'nworkers': 1, 'nthread': 1, 'subsample': 0.9, 'eta': 0.2, 'eval_metric': 'logloss', 'gamma': 0.9, 'objective': 'binary:logistic', 'num_round': 100, 'max_depth': 6, 'silent': 0, 'predictionCol': 'prediction', 'colsample_bytree': 0.9, 'min_child_weight': 50.0, 'featuresCol': 'features'}\n",
      "LOG-LOSS: 0.5018138438346239, ROC-AUC: 0.7370140498759379                       \n",
      "SPACE:                                                                           \n",
      "{'labelCol': 'label', 'nworkers': 1, 'nthread': 1, 'subsample': 0.9, 'eta': 0.15, 'eval_metric': 'logloss', 'gamma': 0.9, 'objective': 'binary:logistic', 'num_round': 20, 'max_depth': 6, 'silent': 0, 'predictionCol': 'prediction', 'colsample_bytree': 0.9, 'min_child_weight': 50.0, 'featuresCol': 'features'}\n",
      "LOG-LOSS: 0.510154032982281, ROC-AUC: 0.726442223458259                          \n",
      "SPACE:                                                                           \n",
      "{'labelCol': 'label', 'nworkers': 1, 'nthread': 1, 'subsample': 0.9, 'eta': 0.2, 'eval_metric': 'logloss', 'gamma': 0.9, 'objective': 'binary:logistic', 'num_round': 10, 'max_depth': 6, 'silent': 0, 'predictionCol': 'prediction', 'colsample_bytree': 0.9, 'min_child_weight': 50.0, 'featuresCol': 'features'}\n",
      "LOG-LOSS: 0.5161855992442274, ROC-AUC: 0.7229464308642869                        \n",
      "SPACE:                                                                           \n",
      "{'labelCol': 'label', 'nworkers': 1, 'nthread': 1, 'subsample': 0.9, 'eta': 0.2, 'eval_metric': 'logloss', 'gamma': 0.9, 'objective': 'binary:logistic', 'num_round': 20, 'max_depth': 6, 'silent': 0, 'predictionCol': 'prediction', 'colsample_bytree': 0.9, 'min_child_weight': 50.0, 'featuresCol': 'features'}\n",
      "LOG-LOSS: 0.5082587340072368, ROC-AUC: 0.7280852174194213                        \n",
      "SPACE:                                                                           \n",
      "{'labelCol': 'label', 'nworkers': 1, 'nthread': 1, 'subsample': 0.9, 'eta': 0.1, 'eval_metric': 'logloss', 'gamma': 0.9, 'objective': 'binary:logistic', 'num_round': 10, 'max_depth': 6, 'silent': 0, 'predictionCol': 'prediction', 'colsample_bytree': 0.9, 'min_child_weight': 50.0, 'featuresCol': 'features'}\n",
      "LOG-LOSS: 0.5438497706797719, ROC-AUC: 0.7202171104748389                        \n",
      "SPACE:                                                                           \n",
      "{'labelCol': 'label', 'nworkers': 1, 'nthread': 1, 'subsample': 0.9, 'eta': 0.3, 'eval_metric': 'logloss', 'gamma': 0.9, 'objective': 'binary:logistic', 'num_round': 40, 'max_depth': 6, 'silent': 0, 'predictionCol': 'prediction', 'colsample_bytree': 0.9, 'min_child_weight': 50.0, 'featuresCol': 'features'}\n",
      "LOG-LOSS: 0.5034608678524105, ROC-AUC: 0.734751494638647                         \n",
      "SPACE:                                                                           \n",
      "{'labelCol': 'label', 'nworkers': 1, 'nthread': 1, 'subsample': 0.9, 'eta': 0.1, 'eval_metric': 'logloss', 'gamma': 0.9, 'objective': 'binary:logistic', 'num_round': 20, 'max_depth': 6, 'silent': 0, 'predictionCol': 'prediction', 'colsample_bytree': 0.9, 'min_child_weight': 50.0, 'featuresCol': 'features'}\n",
      "LOG-LOSS: 0.5166547465701158, ROC-AUC: 0.7235691820405277                        \n",
      "SPACE:                                                                           \n",
      "{'labelCol': 'label', 'nworkers': 1, 'nthread': 1, 'subsample': 0.9, 'eta': 0.3, 'eval_metric': 'logloss', 'gamma': 0.9, 'objective': 'binary:logistic', 'num_round': 100, 'max_depth': 6, 'silent': 0, 'predictionCol': 'prediction', 'colsample_bytree': 0.9, 'min_child_weight': 50.0, 'featuresCol': 'features'}\n",
      "LOG-LOSS: 0.5008542820491835, ROC-AUC: 0.7381784738671615                        \n",
      "SPACE:                                                                           \n",
      "{'labelCol': 'label', 'nworkers': 1, 'nthread': 1, 'subsample': 0.9, 'eta': 0.2, 'eval_metric': 'logloss', 'gamma': 0.9, 'objective': 'binary:logistic', 'num_round': 40, 'max_depth': 6, 'silent': 0, 'predictionCol': 'prediction', 'colsample_bytree': 0.9, 'min_child_weight': 50.0, 'featuresCol': 'features'}\n"
     ]
    },
    {
     "name": "stdout",
     "output_type": "stream",
     "text": [
      "LOG-LOSS: 0.5049240827093872, ROC-AUC: 0.7328122734181647                        \n",
      "SPACE:                                                                           \n",
      "{'labelCol': 'label', 'nworkers': 1, 'nthread': 1, 'subsample': 0.9, 'eta': 0.15, 'eval_metric': 'logloss', 'gamma': 0.9, 'objective': 'binary:logistic', 'num_round': 40, 'max_depth': 6, 'silent': 0, 'predictionCol': 'prediction', 'colsample_bytree': 0.9, 'min_child_weight': 50.0, 'featuresCol': 'features'}\n",
      "LOG-LOSS: 0.5059750051229666, ROC-AUC: 0.7316424878716293                        \n",
      "SPACE:                                                                           \n",
      "{'labelCol': 'label', 'nworkers': 1, 'nthread': 1, 'subsample': 0.9, 'eta': 0.5, 'eval_metric': 'logloss', 'gamma': 0.9, 'objective': 'binary:logistic', 'num_round': 20, 'max_depth': 6, 'silent': 0, 'predictionCol': 'prediction', 'colsample_bytree': 0.9, 'min_child_weight': 50.0, 'featuresCol': 'features'}\n",
      "LOG-LOSS: 0.5046411635761301, ROC-AUC: 0.7329965197639658                        \n",
      "100%|██████████| 20/20 [21:46<00:00, 65.34s/trial, best loss: 0.4999719312076353]\n",
      "CPU times: user 2.49 s, sys: 608 ms, total: 3.1 s\n",
      "Wall time: 21min 46s\n"
     ]
    }
   ],
   "source": [
    "%%time\n",
    "\n",
    "num_round_choice = [10, 20, 40, 100]\n",
    "eta_choice = [0.5, 0.10, 0.15, 0.20, 0.30]\n",
    "\n",
    "space = {\n",
    "    # Optimize\n",
    "    'num_round': hp.choice('num_round', num_round_choice),\n",
    "    'eta': hp.choice('eta', eta_choice),\n",
    "    \n",
    "    # Fixed    \n",
    "    'max_depth': baseline_params['max_depth'],\n",
    "    'min_child_weight': baseline_params['min_child_weight'],\n",
    "    'subsample': baseline_params['subsample'],\n",
    "    'gamma': baseline_params['gamma'],\n",
    "    'colsample_bytree': baseline_params['colsample_bytree'],\n",
    "    \n",
    "    **static_params\n",
    "}\n",
    "\n",
    "\n",
    "trials = Trials()\n",
    "best = fmin(fn=objective,\n",
    "            space=space,\n",
    "            algo=tpe.suggest,\n",
    "            max_evals=20,\n",
    "            trials=trials)"
   ]
  },
  {
   "cell_type": "code",
   "execution_count": 18,
   "metadata": {},
   "outputs": [
    {
     "data": {
      "text/plain": [
       "{'eta': 0, 'num_round': 3}"
      ]
     },
     "execution_count": 18,
     "metadata": {},
     "output_type": "execute_result"
    }
   ],
   "source": [
    "best"
   ]
  },
  {
   "cell_type": "markdown",
   "metadata": {},
   "source": [
    "Обратите внимание на то, что в случае с `hp.choice` в переменной `best` хранится не конкретное значение гиперпараметра, а его индекс из списка, например, `num_round_choice`"
   ]
  },
  {
   "cell_type": "code",
   "execution_count": 19,
   "metadata": {},
   "outputs": [],
   "source": [
    "eta = eta_choice[best['eta']]  # change me!\n",
    "num_round = num_round_choice[best['num_round']]  # change me!"
   ]
  },
  {
   "cell_type": "code",
   "execution_count": 10,
   "metadata": {},
   "outputs": [
    {
     "data": {
      "text/plain": [
       "(0.5, 100)"
      ]
     },
     "execution_count": 10,
     "metadata": {},
     "output_type": "execute_result"
    }
   ],
   "source": [
    "eta, num_round = [0.5, 0.10, 0.15, 0.20, 0.30][0], [10, 20, 40, 100][3]\n",
    "eta, num_round"
   ]
  },
  {
   "cell_type": "markdown",
   "metadata": {},
   "source": [
    "### Tune tree-specific parameters\n",
    "\n",
    "> Tune tree-specific parameters ( max_depth, min_child_weight, gamma, subsample, colsample_bytree) for decided learning rate and number of trees. Note that we can choose different parameters to define a tree and I’ll take up an example here."
   ]
  },
  {
   "cell_type": "markdown",
   "metadata": {},
   "source": [
    "#### Tune max_depth, min_child_weight"
   ]
  },
  {
   "cell_type": "code",
   "execution_count": null,
   "metadata": {},
   "outputs": [],
   "source": [
    "%%time\n",
    "\n",
    "max_depth_choice = [5, 6, 8, 10]\n",
    "min_child_weight_choice = [0.0, 1.0, 5.0, 10.0, 25.0, 40.0, 50.0]\n",
    "\n",
    "space_1 = {\n",
    "    # Optimize\n",
    "    'max_depth': hp.choice('max_depth', max_depth_choice),\n",
    "    'min_child_weight': hp.choice('min_child_weight', min_child_weight_choice),\n",
    "    \n",
    "    # Fixed    \n",
    "    'num_round': num_round,\n",
    "    'eta': eta,\n",
    "    'subsample': start_params['subsample'],\n",
    "    'gamma': start_params['gamma'],\n",
    "    'colsample_bytree': start_params['colsample_bytree'],\n",
    "    \n",
    "    **static_params\n",
    "}\n",
    "\n",
    "\n",
    "trials_1 = Trials()\n",
    "best_1 = fmin(fn=objective,\n",
    "            space=space_1,\n",
    "            algo=tpe.suggest,\n",
    "            max_evals=15,\n",
    "            trials=trials_1)\n",
    "print(best_1)\n",
    "max_depth = max_depth_choice[best_1['max_depth']]\n",
    "min_child_weight = min_child_weight_choice[best_1['min_child_weight']]"
   ]
  },
  {
   "cell_type": "code",
   "execution_count": 11,
   "metadata": {},
   "outputs": [
    {
     "data": {
      "text/plain": [
       "(6, 50.0)"
      ]
     },
     "execution_count": 11,
     "metadata": {},
     "output_type": "execute_result"
    }
   ],
   "source": [
    "max_depth = [5, 6, 8, 10][1]\n",
    "min_child_weight = [0.0, 1.0, 5.0, 10.0, 25.0, 40.0, 50.0][6]\n",
    "\n",
    "max_depth, min_child_weight"
   ]
  },
  {
   "cell_type": "markdown",
   "metadata": {},
   "source": [
    "#### Tune gamma"
   ]
  },
  {
   "cell_type": "code",
   "execution_count": 23,
   "metadata": {},
   "outputs": [
    {
     "name": "stdout",
     "output_type": "stream",
     "text": [
      "SPACE:                                                \n",
      "{'labelCol': 'label', 'nworkers': 1, 'nthread': 1, 'subsample': 0.9, 'eta': 0.5, 'eval_metric': 'logloss', 'gamma': 0.9, 'objective': 'binary:logistic', 'num_round': 100, 'max_depth': 6, 'silent': 0, 'predictionCol': 'prediction', 'colsample_bytree': 0.9, 'min_child_weight': 50.0, 'featuresCol': 'features'}\n",
      "LOG-LOSS: 0.4999719312076353, ROC-AUC: 0.739497136284216\n",
      "SPACE:                                                                           \n",
      "{'labelCol': 'label', 'nworkers': 1, 'nthread': 1, 'subsample': 0.9, 'eta': 0.5, 'eval_metric': 'logloss', 'gamma': 2.0, 'objective': 'binary:logistic', 'num_round': 100, 'max_depth': 6, 'silent': 0, 'predictionCol': 'prediction', 'colsample_bytree': 0.9, 'min_child_weight': 50.0, 'featuresCol': 'features'}\n",
      "LOG-LOSS: 0.500091270990817, ROC-AUC: 0.7392182630119916                         \n",
      "SPACE:                                                                           \n",
      "{'labelCol': 'label', 'nworkers': 1, 'nthread': 1, 'subsample': 0.9, 'eta': 0.5, 'eval_metric': 'logloss', 'gamma': 0.4, 'objective': 'binary:logistic', 'num_round': 100, 'max_depth': 6, 'silent': 0, 'predictionCol': 'prediction', 'colsample_bytree': 0.9, 'min_child_weight': 50.0, 'featuresCol': 'features'}\n",
      "LOG-LOSS: 0.4997659706582391, ROC-AUC: 0.7396264087238472                        \n",
      "SPACE:                                                                           \n",
      "{'labelCol': 'label', 'nworkers': 1, 'nthread': 1, 'subsample': 0.9, 'eta': 0.5, 'eval_metric': 'logloss', 'gamma': 0.2, 'objective': 'binary:logistic', 'num_round': 100, 'max_depth': 6, 'silent': 0, 'predictionCol': 'prediction', 'colsample_bytree': 0.9, 'min_child_weight': 50.0, 'featuresCol': 'features'}\n",
      "LOG-LOSS: 0.4999344937271374, ROC-AUC: 0.7394154688180642                        \n",
      "SPACE:                                                                           \n",
      "{'labelCol': 'label', 'nworkers': 1, 'nthread': 1, 'subsample': 0.9, 'eta': 0.5, 'eval_metric': 'logloss', 'gamma': 0.2, 'objective': 'binary:logistic', 'num_round': 100, 'max_depth': 6, 'silent': 0, 'predictionCol': 'prediction', 'colsample_bytree': 0.9, 'min_child_weight': 50.0, 'featuresCol': 'features'}\n",
      "LOG-LOSS: 0.4999344937271374, ROC-AUC: 0.7394154688180686                        \n",
      "SPACE:                                                                           \n",
      "{'labelCol': 'label', 'nworkers': 1, 'nthread': 1, 'subsample': 0.9, 'eta': 0.5, 'eval_metric': 'logloss', 'gamma': 0.9, 'objective': 'binary:logistic', 'num_round': 100, 'max_depth': 6, 'silent': 0, 'predictionCol': 'prediction', 'colsample_bytree': 0.9, 'min_child_weight': 50.0, 'featuresCol': 'features'}\n",
      "LOG-LOSS: 0.4999719312076353, ROC-AUC: 0.7394971362842181                        \n",
      "SPACE:                                                                           \n",
      "{'labelCol': 'label', 'nworkers': 1, 'nthread': 1, 'subsample': 0.9, 'eta': 0.5, 'eval_metric': 'logloss', 'gamma': 0.9, 'objective': 'binary:logistic', 'num_round': 100, 'max_depth': 6, 'silent': 0, 'predictionCol': 'prediction', 'colsample_bytree': 0.9, 'min_child_weight': 50.0, 'featuresCol': 'features'}\n",
      "LOG-LOSS: 0.4999719312076353, ROC-AUC: 0.7394971362842179                        \n",
      "SPACE:                                                                           \n",
      "{'labelCol': 'label', 'nworkers': 1, 'nthread': 1, 'subsample': 0.9, 'eta': 0.5, 'eval_metric': 'logloss', 'gamma': 0.9, 'objective': 'binary:logistic', 'num_round': 100, 'max_depth': 6, 'silent': 0, 'predictionCol': 'prediction', 'colsample_bytree': 0.9, 'min_child_weight': 50.0, 'featuresCol': 'features'}\n",
      "LOG-LOSS: 0.4999719312076353, ROC-AUC: 0.7394971362842184                        \n",
      "SPACE:                                                                           \n",
      "{'labelCol': 'label', 'nworkers': 1, 'nthread': 1, 'subsample': 0.9, 'eta': 0.5, 'eval_metric': 'logloss', 'gamma': 0.4, 'objective': 'binary:logistic', 'num_round': 100, 'max_depth': 6, 'silent': 0, 'predictionCol': 'prediction', 'colsample_bytree': 0.9, 'min_child_weight': 50.0, 'featuresCol': 'features'}\n",
      "LOG-LOSS: 0.4997659706582391, ROC-AUC: 0.7396264087238464                        \n",
      "SPACE:                                                                           \n",
      "{'labelCol': 'label', 'nworkers': 1, 'nthread': 1, 'subsample': 0.9, 'eta': 0.5, 'eval_metric': 'logloss', 'gamma': 0.1, 'objective': 'binary:logistic', 'num_round': 100, 'max_depth': 6, 'silent': 0, 'predictionCol': 'prediction', 'colsample_bytree': 0.9, 'min_child_weight': 50.0, 'featuresCol': 'features'}\n",
      "LOG-LOSS: 0.5000145629018783, ROC-AUC: 0.739230402007587                         \n",
      "SPACE:                                                                            \n",
      "{'labelCol': 'label', 'nworkers': 1, 'nthread': 1, 'subsample': 0.9, 'eta': 0.5, 'eval_metric': 'logloss', 'gamma': 0.9, 'objective': 'binary:logistic', 'num_round': 100, 'max_depth': 6, 'silent': 0, 'predictionCol': 'prediction', 'colsample_bytree': 0.9, 'min_child_weight': 50.0, 'featuresCol': 'features'}\n",
      "LOG-LOSS: 0.4999719312076353, ROC-AUC: 0.7394971362842181                         \n",
      "SPACE:                                                                            \n",
      "{'labelCol': 'label', 'nworkers': 1, 'nthread': 1, 'subsample': 0.9, 'eta': 0.5, 'eval_metric': 'logloss', 'gamma': 0.2, 'objective': 'binary:logistic', 'num_round': 100, 'max_depth': 6, 'silent': 0, 'predictionCol': 'prediction', 'colsample_bytree': 0.9, 'min_child_weight': 50.0, 'featuresCol': 'features'}\n",
      "LOG-LOSS: 0.4999344937271374, ROC-AUC: 0.7394154688180661                         \n",
      "SPACE:                                                                            \n",
      "{'labelCol': 'label', 'nworkers': 1, 'nthread': 1, 'subsample': 0.9, 'eta': 0.5, 'eval_metric': 'logloss', 'gamma': 2.0, 'objective': 'binary:logistic', 'num_round': 100, 'max_depth': 6, 'silent': 0, 'predictionCol': 'prediction', 'colsample_bytree': 0.9, 'min_child_weight': 50.0, 'featuresCol': 'features'}\n",
      "LOG-LOSS: 0.500091270990817, ROC-AUC: 0.7392182630119857                          \n",
      "SPACE:                                                                            \n",
      "{'labelCol': 'label', 'nworkers': 1, 'nthread': 1, 'subsample': 0.9, 'eta': 0.5, 'eval_metric': 'logloss', 'gamma': 0.4, 'objective': 'binary:logistic', 'num_round': 100, 'max_depth': 6, 'silent': 0, 'predictionCol': 'prediction', 'colsample_bytree': 0.9, 'min_child_weight': 50.0, 'featuresCol': 'features'}\n",
      "LOG-LOSS: 0.4997659706582391, ROC-AUC: 0.739626408723846                          \n",
      "SPACE:                                                                            \n",
      "{'labelCol': 'label', 'nworkers': 1, 'nthread': 1, 'subsample': 0.9, 'eta': 0.5, 'eval_metric': 'logloss', 'gamma': 0.1, 'objective': 'binary:logistic', 'num_round': 100, 'max_depth': 6, 'silent': 0, 'predictionCol': 'prediction', 'colsample_bytree': 0.9, 'min_child_weight': 50.0, 'featuresCol': 'features'}\n",
      "LOG-LOSS: 0.5000145629018783, ROC-AUC: 0.7392304020075833                         \n",
      "SPACE:                                                                            \n",
      "{'labelCol': 'label', 'nworkers': 1, 'nthread': 1, 'subsample': 0.9, 'eta': 0.5, 'eval_metric': 'logloss', 'gamma': 0.1, 'objective': 'binary:logistic', 'num_round': 100, 'max_depth': 6, 'silent': 0, 'predictionCol': 'prediction', 'colsample_bytree': 0.9, 'min_child_weight': 50.0, 'featuresCol': 'features'}\n",
      "LOG-LOSS: 0.5000145629018783, ROC-AUC: 0.7392304020075856                         \n",
      "SPACE:                                                                            \n",
      "{'labelCol': 'label', 'nworkers': 1, 'nthread': 1, 'subsample': 0.9, 'eta': 0.5, 'eval_metric': 'logloss', 'gamma': 2.0, 'objective': 'binary:logistic', 'num_round': 100, 'max_depth': 6, 'silent': 0, 'predictionCol': 'prediction', 'colsample_bytree': 0.9, 'min_child_weight': 50.0, 'featuresCol': 'features'}\n",
      "LOG-LOSS: 0.500091270990817, ROC-AUC: 0.7392182630119913                          \n",
      "SPACE:                                                                            \n",
      "{'labelCol': 'label', 'nworkers': 1, 'nthread': 1, 'subsample': 0.9, 'eta': 0.5, 'eval_metric': 'logloss', 'gamma': 0.2, 'objective': 'binary:logistic', 'num_round': 100, 'max_depth': 6, 'silent': 0, 'predictionCol': 'prediction', 'colsample_bytree': 0.9, 'min_child_weight': 50.0, 'featuresCol': 'features'}\n"
     ]
    },
    {
     "name": "stdout",
     "output_type": "stream",
     "text": [
      "LOG-LOSS: 0.4999344937271374, ROC-AUC: 0.7394154688180656                         \n",
      "SPACE:                                                                            \n",
      "{'labelCol': 'label', 'nworkers': 1, 'nthread': 1, 'subsample': 0.9, 'eta': 0.5, 'eval_metric': 'logloss', 'gamma': 0.4, 'objective': 'binary:logistic', 'num_round': 100, 'max_depth': 6, 'silent': 0, 'predictionCol': 'prediction', 'colsample_bytree': 0.9, 'min_child_weight': 50.0, 'featuresCol': 'features'}\n",
      "LOG-LOSS: 0.4997659706582391, ROC-AUC: 0.7396264087238456                         \n",
      "SPACE:                                                                            \n",
      "{'labelCol': 'label', 'nworkers': 1, 'nthread': 1, 'subsample': 0.9, 'eta': 0.5, 'eval_metric': 'logloss', 'gamma': 0.4, 'objective': 'binary:logistic', 'num_round': 100, 'max_depth': 6, 'silent': 0, 'predictionCol': 'prediction', 'colsample_bytree': 0.9, 'min_child_weight': 50.0, 'featuresCol': 'features'}\n",
      "LOG-LOSS: 0.4997659706582391, ROC-AUC: 0.7396264087238406                         \n",
      "100%|██████████| 20/20 [45:34<00:00, 136.73s/trial, best loss: 0.4997659706582391]\n",
      "{'gamma': 2}\n"
     ]
    },
    {
     "ename": "KeyError",
     "evalue": "'gamma'",
     "output_type": "error",
     "traceback": [
      "\u001b[0;31m---------------------------------------------------------------------------\u001b[0m",
      "\u001b[0;31mKeyError\u001b[0m                                  Traceback (most recent call last)",
      "\u001b[0;32m<timed exec>\u001b[0m in \u001b[0;36m<module>\u001b[0;34m\u001b[0m\n",
      "\u001b[0;31mKeyError\u001b[0m: 'gamma'"
     ]
    }
   ],
   "source": [
    "%%time\n",
    "\n",
    "gamma_choice = [0.1, 0.2, 0.4, 0.9, 2.0]\n",
    "\n",
    "space_2 = {\n",
    "    # Optimize\n",
    "    'gamma': hp.choice('gamma', gamma_choice),\n",
    "    \n",
    "    # Fixed    \n",
    "    'num_round': num_round,\n",
    "    'eta': eta,\n",
    "    'subsample': start_params['subsample'],\n",
    "    'colsample_bytree': start_params['colsample_bytree'],\n",
    "    'max_depth': max_depth,\n",
    "    'min_child_weight': min_child_weight,\n",
    "    \n",
    "    **static_params\n",
    "}\n",
    "\n",
    "\n",
    "trials_2 = Trials()\n",
    "best_2 = fmin(fn=objective,\n",
    "            space=space_2,\n",
    "            algo=tpe.suggest,\n",
    "            max_evals=20,\n",
    "            trials=trials_2)\n",
    "print(best_2)\n"
   ]
  },
  {
   "cell_type": "code",
   "execution_count": 12,
   "metadata": {},
   "outputs": [
    {
     "data": {
      "text/plain": [
       "0.4"
      ]
     },
     "execution_count": 12,
     "metadata": {},
     "output_type": "execute_result"
    }
   ],
   "source": [
    "gamma = [0.1, 0.2, 0.4, 0.9, 2.0][2]#gamma_choice[best_2['gamma']]\n",
    "gamma"
   ]
  },
  {
   "cell_type": "markdown",
   "metadata": {},
   "source": [
    "#### Tune subsample, colsample_bytree"
   ]
  },
  {
   "cell_type": "code",
   "execution_count": 28,
   "metadata": {},
   "outputs": [
    {
     "name": "stdout",
     "output_type": "stream",
     "text": [
      "SPACE:                                                \n",
      "{'labelCol': 'label', 'nworkers': 1, 'nthread': 1, 'subsample': 1.0, 'eta': 0.5, 'eval_metric': 'logloss', 'gamma': 0.4, 'objective': 'binary:logistic', 'num_round': 100, 'max_depth': 6, 'silent': 0, 'predictionCol': 'prediction', 'colsample_bytree': 1.0, 'min_child_weight': 50.0, 'featuresCol': 'features'}\n",
      "LOG-LOSS: 0.5000928239315975, ROC-AUC: 0.7392247189052934\n",
      "SPACE:                                                                           \n",
      "{'labelCol': 'label', 'nworkers': 1, 'nthread': 1, 'subsample': 1.0, 'eta': 0.5, 'eval_metric': 'logloss', 'gamma': 0.4, 'objective': 'binary:logistic', 'num_round': 100, 'max_depth': 6, 'silent': 0, 'predictionCol': 'prediction', 'colsample_bytree': 0.5, 'min_child_weight': 50.0, 'featuresCol': 'features'}\n",
      "LOG-LOSS: 0.500531698468729, ROC-AUC: 0.7384748074102702                         \n",
      "SPACE:                                                                           \n",
      "{'labelCol': 'label', 'nworkers': 1, 'nthread': 1, 'subsample': 1.0, 'eta': 0.5, 'eval_metric': 'logloss', 'gamma': 0.4, 'objective': 'binary:logistic', 'num_round': 100, 'max_depth': 6, 'silent': 0, 'predictionCol': 'prediction', 'colsample_bytree': 0.5, 'min_child_weight': 50.0, 'featuresCol': 'features'}\n",
      "LOG-LOSS: 0.500531698468729, ROC-AUC: 0.7384748074102646                         \n",
      "SPACE:                                                                           \n",
      "{'labelCol': 'label', 'nworkers': 1, 'nthread': 1, 'subsample': 1.0, 'eta': 0.5, 'eval_metric': 'logloss', 'gamma': 0.4, 'objective': 'binary:logistic', 'num_round': 100, 'max_depth': 6, 'silent': 0, 'predictionCol': 'prediction', 'colsample_bytree': 0.1, 'min_child_weight': 50.0, 'featuresCol': 'features'}\n",
      "LOG-LOSS: 0.5024113621014259, ROC-AUC: 0.7363079253016295                        \n",
      "SPACE:                                                                           \n",
      "{'labelCol': 'label', 'nworkers': 1, 'nthread': 1, 'subsample': 0.15, 'eta': 0.5, 'eval_metric': 'logloss', 'gamma': 0.4, 'objective': 'binary:logistic', 'num_round': 100, 'max_depth': 6, 'silent': 0, 'predictionCol': 'prediction', 'colsample_bytree': 0.3, 'min_child_weight': 50.0, 'featuresCol': 'features'}\n",
      "LOG-LOSS: 0.5051193320664288, ROC-AUC: 0.7321728092693378                       \n",
      "SPACE:                                                                          \n",
      "{'labelCol': 'label', 'nworkers': 1, 'nthread': 1, 'subsample': 0.4, 'eta': 0.5, 'eval_metric': 'logloss', 'gamma': 0.4, 'objective': 'binary:logistic', 'num_round': 100, 'max_depth': 6, 'silent': 0, 'predictionCol': 'prediction', 'colsample_bytree': 0.5, 'min_child_weight': 50.0, 'featuresCol': 'features'}\n",
      "LOG-LOSS: 0.5013048057497312, ROC-AUC: 0.7375419018698035                       \n",
      "SPACE:                                                                          \n",
      "{'labelCol': 'label', 'nworkers': 1, 'nthread': 1, 'subsample': 1.0, 'eta': 0.5, 'eval_metric': 'logloss', 'gamma': 0.4, 'objective': 'binary:logistic', 'num_round': 100, 'max_depth': 6, 'silent': 0, 'predictionCol': 'prediction', 'colsample_bytree': 1.0, 'min_child_weight': 50.0, 'featuresCol': 'features'}\n",
      "LOG-LOSS: 0.5000928239315975, ROC-AUC: 0.7392247189052962                       \n",
      "SPACE:                                                                           \n",
      "{'labelCol': 'label', 'nworkers': 1, 'nthread': 1, 'subsample': 0.4, 'eta': 0.5, 'eval_metric': 'logloss', 'gamma': 0.4, 'objective': 'binary:logistic', 'num_round': 100, 'max_depth': 6, 'silent': 0, 'predictionCol': 'prediction', 'colsample_bytree': 0.5, 'min_child_weight': 50.0, 'featuresCol': 'features'}\n",
      "LOG-LOSS: 0.5013048057497312, ROC-AUC: 0.7375419018698027                        \n",
      "SPACE:                                                                           \n",
      "{'labelCol': 'label', 'nworkers': 1, 'nthread': 1, 'subsample': 0.4, 'eta': 0.5, 'eval_metric': 'logloss', 'gamma': 0.4, 'objective': 'binary:logistic', 'num_round': 100, 'max_depth': 6, 'silent': 0, 'predictionCol': 'prediction', 'colsample_bytree': 0.3, 'min_child_weight': 50.0, 'featuresCol': 'features'}\n",
      "LOG-LOSS: 0.5013920493768401, ROC-AUC: 0.7373180110526718                        \n",
      "SPACE:                                                                           \n",
      "{'labelCol': 'label', 'nworkers': 1, 'nthread': 1, 'subsample': 0.4, 'eta': 0.5, 'eval_metric': 'logloss', 'gamma': 0.4, 'objective': 'binary:logistic', 'num_round': 100, 'max_depth': 6, 'silent': 0, 'predictionCol': 'prediction', 'colsample_bytree': 0.5, 'min_child_weight': 50.0, 'featuresCol': 'features'}\n",
      "LOG-LOSS: 0.5013048057497312, ROC-AUC: 0.7375419018698011                        \n",
      "SPACE:                                                                            \n",
      "{'labelCol': 'label', 'nworkers': 1, 'nthread': 1, 'subsample': 0.05, 'eta': 0.5, 'eval_metric': 'logloss', 'gamma': 0.4, 'objective': 'binary:logistic', 'num_round': 100, 'max_depth': 6, 'silent': 0, 'predictionCol': 'prediction', 'colsample_bytree': 1.0, 'min_child_weight': 50.0, 'featuresCol': 'features'}\n",
      "LOG-LOSS: 0.5184552508528006, ROC-AUC: 0.7156640669248093                         \n",
      "SPACE:                                                                            \n",
      "{'labelCol': 'label', 'nworkers': 1, 'nthread': 1, 'subsample': 0.4, 'eta': 0.5, 'eval_metric': 'logloss', 'gamma': 0.4, 'objective': 'binary:logistic', 'num_round': 100, 'max_depth': 6, 'silent': 0, 'predictionCol': 'prediction', 'colsample_bytree': 1.0, 'min_child_weight': 50.0, 'featuresCol': 'features'}\n",
      "LOG-LOSS: 0.5012381824773608, ROC-AUC: 0.7375092279209875                         \n",
      "SPACE:                                                                            \n",
      "{'labelCol': 'label', 'nworkers': 1, 'nthread': 1, 'subsample': 0.05, 'eta': 0.5, 'eval_metric': 'logloss', 'gamma': 0.4, 'objective': 'binary:logistic', 'num_round': 100, 'max_depth': 6, 'silent': 0, 'predictionCol': 'prediction', 'colsample_bytree': 1.0, 'min_child_weight': 50.0, 'featuresCol': 'features'}\n",
      "LOG-LOSS: 0.5184552508528006, ROC-AUC: 0.7156640669248084                         \n",
      "SPACE:                                                                            \n",
      "{'labelCol': 'label', 'nworkers': 1, 'nthread': 1, 'subsample': 0.4, 'eta': 0.5, 'eval_metric': 'logloss', 'gamma': 0.4, 'objective': 'binary:logistic', 'num_round': 100, 'max_depth': 6, 'silent': 0, 'predictionCol': 'prediction', 'colsample_bytree': 0.5, 'min_child_weight': 50.0, 'featuresCol': 'features'}\n",
      "LOG-LOSS: 0.5013048057497312, ROC-AUC: 0.737541901869806                          \n",
      "SPACE:                                                                            \n",
      "{'labelCol': 'label', 'nworkers': 1, 'nthread': 1, 'subsample': 0.15, 'eta': 0.5, 'eval_metric': 'logloss', 'gamma': 0.4, 'objective': 'binary:logistic', 'num_round': 100, 'max_depth': 6, 'silent': 0, 'predictionCol': 'prediction', 'colsample_bytree': 0.3, 'min_child_weight': 50.0, 'featuresCol': 'features'}\n",
      "LOG-LOSS: 0.5051193320664288, ROC-AUC: 0.7321728092693351                         \n",
      "SPACE:                                                                            \n",
      "{'labelCol': 'label', 'nworkers': 1, 'nthread': 1, 'subsample': 0.4, 'eta': 0.5, 'eval_metric': 'logloss', 'gamma': 0.4, 'objective': 'binary:logistic', 'num_round': 100, 'max_depth': 6, 'silent': 0, 'predictionCol': 'prediction', 'colsample_bytree': 0.3, 'min_child_weight': 50.0, 'featuresCol': 'features'}\n",
      "LOG-LOSS: 0.5013920493768401, ROC-AUC: 0.7373180110526739                         \n",
      "SPACE:                                                                            \n",
      "{'labelCol': 'label', 'nworkers': 1, 'nthread': 1, 'subsample': 1.0, 'eta': 0.5, 'eval_metric': 'logloss', 'gamma': 0.4, 'objective': 'binary:logistic', 'num_round': 100, 'max_depth': 6, 'silent': 0, 'predictionCol': 'prediction', 'colsample_bytree': 0.1, 'min_child_weight': 50.0, 'featuresCol': 'features'}\n",
      "LOG-LOSS: 0.5024113621014259, ROC-AUC: 0.7363079253016284                        \n",
      "SPACE:                                                                           \n",
      "{'labelCol': 'label', 'nworkers': 1, 'nthread': 1, 'subsample': 0.15, 'eta': 0.5, 'eval_metric': 'logloss', 'gamma': 0.4, 'objective': 'binary:logistic', 'num_round': 100, 'max_depth': 6, 'silent': 0, 'predictionCol': 'prediction', 'colsample_bytree': 0.1, 'min_child_weight': 50.0, 'featuresCol': 'features'}\n"
     ]
    },
    {
     "name": "stdout",
     "output_type": "stream",
     "text": [
      "LOG-LOSS: 0.5055654615978574, ROC-AUC: 0.7319119998521211                        \n",
      "SPACE:                                                                           \n",
      "{'labelCol': 'label', 'nworkers': 1, 'nthread': 1, 'subsample': 0.15, 'eta': 0.5, 'eval_metric': 'logloss', 'gamma': 0.4, 'objective': 'binary:logistic', 'num_round': 100, 'max_depth': 6, 'silent': 0, 'predictionCol': 'prediction', 'colsample_bytree': 1.0, 'min_child_weight': 50.0, 'featuresCol': 'features'}\n",
      "LOG-LOSS: 0.5067085627484498, ROC-AUC: 0.7300070171857189                        \n",
      "SPACE:                                                                           \n",
      "{'labelCol': 'label', 'nworkers': 1, 'nthread': 1, 'subsample': 1.0, 'eta': 0.5, 'eval_metric': 'logloss', 'gamma': 0.4, 'objective': 'binary:logistic', 'num_round': 100, 'max_depth': 6, 'silent': 0, 'predictionCol': 'prediction', 'colsample_bytree': 0.1, 'min_child_weight': 50.0, 'featuresCol': 'features'}\n",
      "LOG-LOSS: 0.5024113621014259, ROC-AUC: 0.7363079253016304                        \n",
      "100%|██████████| 20/20 [32:26<00:00, 97.31s/trial, best loss: 0.5000928239315975]\n",
      "{'colsample_bytree': 3, 'subsample': 3}\n",
      "CPU times: user 2.56 s, sys: 584 ms, total: 3.15 s\n",
      "Wall time: 32min 26s\n"
     ]
    }
   ],
   "source": [
    "%%time\n",
    "\n",
    "subsample_choice = [0.05, 0.15, 0.4, 1.0] \n",
    "colsample_bytree_choice = [0.1, 0.3, 0.5, 1.0]\n",
    "\n",
    "space_3 = {\n",
    "    # Optimize\n",
    "    'subsample': hp.choice('subsample', subsample_choice),\n",
    "    'colsample_bytree': hp.choice('colsample_bytree', colsample_bytree_choice),\n",
    "    \n",
    "    # Fixed    \n",
    "    'num_round': num_round,\n",
    "    'eta': eta,\n",
    "    'gamma': gamma,\n",
    "    'max_depth': max_depth,\n",
    "    'min_child_weight': min_child_weight,\n",
    "    \n",
    "    **static_params\n",
    "}\n",
    "\n",
    "\n",
    "trials_3 = Trials()\n",
    "best_3 = fmin(fn=objective,\n",
    "            space=space_3,\n",
    "            algo=tpe.suggest,\n",
    "            max_evals=20,\n",
    "            trials=trials_3)\n",
    "print(best_3)"
   ]
  },
  {
   "cell_type": "code",
   "execution_count": 29,
   "metadata": {},
   "outputs": [],
   "source": [
    "subsample = subsample_choice[best_3['subsample']]\n",
    "colsample_bytree = colsample_bytree_choice[best_3['colsample_bytree']]"
   ]
  },
  {
   "cell_type": "code",
   "execution_count": 13,
   "metadata": {},
   "outputs": [
    {
     "data": {
      "text/plain": [
       "(1.0, 1.0)"
      ]
     },
     "execution_count": 13,
     "metadata": {},
     "output_type": "execute_result"
    }
   ],
   "source": [
    "subsample = [0.05, 0.15, 0.4, 1.0][3]\n",
    "colsample_bytree = [0.1, 0.3, 0.5, 1.0][3]\n",
    "\n",
    "subsample, colsample_bytree"
   ]
  },
  {
   "cell_type": "markdown",
   "metadata": {},
   "source": [
    "### Tune regularization parameters\n",
    "\n",
    "> Tune regularization parameters (lambda, alpha) for xgboost which can help reduce model complexity and enhance performance."
   ]
  },
  {
   "cell_type": "code",
   "execution_count": 33,
   "metadata": {},
   "outputs": [
    {
     "name": "stdout",
     "output_type": "stream",
     "text": [
      "SPACE:                                                \n",
      "{'labelCol': 'label', 'colsample_bytree': 1.0, 'nthread': 1, 'min_child_weight': 50.0, 'eta': 0.5, 'nworkers': 1, 'alpha': 3.0, 'eval_metric': 'logloss', 'gamma': 0.4, 'objective': 'binary:logistic', 'featuresCol': 'features', 'silent': 0, 'subsample': 1.0, 'predictionCol': 'prediction', 'max_depth': 6, 'num_round': 100, 'lambda': 0.0}\n",
      "LOG-LOSS: 0.5006333418478331, ROC-AUC: 0.738428914222012\n",
      "SPACE:                                                                           \n",
      "{'labelCol': 'label', 'colsample_bytree': 1.0, 'nthread': 1, 'min_child_weight': 50.0, 'eta': 0.5, 'nworkers': 1, 'alpha': 0.7, 'eval_metric': 'logloss', 'gamma': 0.4, 'objective': 'binary:logistic', 'featuresCol': 'features', 'silent': 0, 'subsample': 1.0, 'predictionCol': 'prediction', 'max_depth': 6, 'num_round': 100, 'lambda': 0.0}\n",
      "LOG-LOSS: 0.5004349764545957, ROC-AUC: 0.7389036774607389                        \n",
      "SPACE:                                                                           \n",
      "{'labelCol': 'label', 'colsample_bytree': 1.0, 'nthread': 1, 'min_child_weight': 50.0, 'eta': 0.5, 'nworkers': 1, 'alpha': 0.0, 'eval_metric': 'logloss', 'gamma': 0.4, 'objective': 'binary:logistic', 'featuresCol': 'features', 'silent': 0, 'subsample': 1.0, 'predictionCol': 'prediction', 'max_depth': 6, 'num_round': 100, 'lambda': 1.5}\n",
      "LOG-LOSS: 0.5003708859407022, ROC-AUC: 0.7389670474785842                        \n",
      "SPACE:                                                                           \n",
      "{'labelCol': 'label', 'colsample_bytree': 1.0, 'nthread': 1, 'min_child_weight': 50.0, 'eta': 0.5, 'nworkers': 1, 'alpha': 0.1, 'eval_metric': 'logloss', 'gamma': 0.4, 'objective': 'binary:logistic', 'featuresCol': 'features', 'silent': 0, 'subsample': 1.0, 'predictionCol': 'prediction', 'max_depth': 6, 'num_round': 100, 'lambda': 0.0}\n",
      "LOG-LOSS: 0.5004727174576284, ROC-AUC: 0.7387068185403229                        \n",
      "SPACE:                                                                           \n",
      "{'labelCol': 'label', 'colsample_bytree': 1.0, 'nthread': 1, 'min_child_weight': 50.0, 'eta': 0.5, 'nworkers': 1, 'alpha': 0.0, 'eval_metric': 'logloss', 'gamma': 0.4, 'objective': 'binary:logistic', 'featuresCol': 'features', 'silent': 0, 'subsample': 1.0, 'predictionCol': 'prediction', 'max_depth': 6, 'num_round': 100, 'lambda': 1.0}\n",
      "LOG-LOSS: 0.5000928239315975, ROC-AUC: 0.7392247189052903                        \n",
      "SPACE:                                                                           \n",
      "{'labelCol': 'label', 'colsample_bytree': 1.0, 'nthread': 1, 'min_child_weight': 50.0, 'eta': 0.5, 'nworkers': 1, 'alpha': 0.7, 'eval_metric': 'logloss', 'gamma': 0.4, 'objective': 'binary:logistic', 'featuresCol': 'features', 'silent': 0, 'subsample': 1.0, 'predictionCol': 'prediction', 'max_depth': 6, 'num_round': 100, 'lambda': 0.1}\n",
      "LOG-LOSS: 0.5001992043267806, ROC-AUC: 0.7391862601914165                        \n",
      "SPACE:                                                                           \n",
      "{'labelCol': 'label', 'colsample_bytree': 1.0, 'nthread': 1, 'min_child_weight': 50.0, 'eta': 0.5, 'nworkers': 1, 'alpha': 0.1, 'eval_metric': 'logloss', 'gamma': 0.4, 'objective': 'binary:logistic', 'featuresCol': 'features', 'silent': 0, 'subsample': 1.0, 'predictionCol': 'prediction', 'max_depth': 6, 'num_round': 100, 'lambda': 0.0}\n",
      "LOG-LOSS: 0.5004727174576284, ROC-AUC: 0.7387068185403207                        \n",
      "SPACE:                                                                           \n",
      "{'labelCol': 'label', 'colsample_bytree': 1.0, 'nthread': 1, 'min_child_weight': 50.0, 'eta': 0.5, 'nworkers': 1, 'alpha': 1.5, 'eval_metric': 'logloss', 'gamma': 0.4, 'objective': 'binary:logistic', 'featuresCol': 'features', 'silent': 0, 'subsample': 1.0, 'predictionCol': 'prediction', 'max_depth': 6, 'num_round': 100, 'lambda': 3.0}\n",
      "LOG-LOSS: 0.5001760717655709, ROC-AUC: 0.7390824540420142                        \n",
      "SPACE:                                                                           \n",
      "{'labelCol': 'label', 'colsample_bytree': 1.0, 'nthread': 1, 'min_child_weight': 50.0, 'eta': 0.5, 'nworkers': 1, 'alpha': 0.3, 'eval_metric': 'logloss', 'gamma': 0.4, 'objective': 'binary:logistic', 'featuresCol': 'features', 'silent': 0, 'subsample': 1.0, 'predictionCol': 'prediction', 'max_depth': 6, 'num_round': 100, 'lambda': 0.5}\n",
      "LOG-LOSS: 0.5000539379604444, ROC-AUC: 0.7393520571338968                        \n",
      "SPACE:                                                                           \n",
      "{'labelCol': 'label', 'colsample_bytree': 1.0, 'nthread': 1, 'min_child_weight': 50.0, 'eta': 0.5, 'nworkers': 1, 'alpha': 0.7, 'eval_metric': 'logloss', 'gamma': 0.4, 'objective': 'binary:logistic', 'featuresCol': 'features', 'silent': 0, 'subsample': 1.0, 'predictionCol': 'prediction', 'max_depth': 6, 'num_round': 100, 'lambda': 3.0}\n",
      "LOG-LOSS: 0.5001628219029877, ROC-AUC: 0.7391635385646542                        \n",
      "SPACE:                                                                            \n",
      "{'labelCol': 'label', 'colsample_bytree': 1.0, 'nthread': 1, 'min_child_weight': 50.0, 'eta': 0.5, 'nworkers': 1, 'alpha': 0.7, 'eval_metric': 'logloss', 'gamma': 0.4, 'objective': 'binary:logistic', 'featuresCol': 'features', 'silent': 0, 'subsample': 1.0, 'predictionCol': 'prediction', 'max_depth': 6, 'num_round': 100, 'lambda': 0.1}\n",
      "LOG-LOSS: 0.5001992043267806, ROC-AUC: 0.739186260191414                          \n",
      "SPACE:                                                                            \n",
      "{'labelCol': 'label', 'colsample_bytree': 1.0, 'nthread': 1, 'min_child_weight': 50.0, 'eta': 0.5, 'nworkers': 1, 'alpha': 1.5, 'eval_metric': 'logloss', 'gamma': 0.4, 'objective': 'binary:logistic', 'featuresCol': 'features', 'silent': 0, 'subsample': 1.0, 'predictionCol': 'prediction', 'max_depth': 6, 'num_round': 100, 'lambda': 0.1}\n",
      "LOG-LOSS: 0.5004309397053442, ROC-AUC: 0.738835486163541                          \n",
      "SPACE:                                                                            \n",
      "{'labelCol': 'label', 'colsample_bytree': 1.0, 'nthread': 1, 'min_child_weight': 50.0, 'eta': 0.5, 'nworkers': 1, 'alpha': 0.3, 'eval_metric': 'logloss', 'gamma': 0.4, 'objective': 'binary:logistic', 'featuresCol': 'features', 'silent': 0, 'subsample': 1.0, 'predictionCol': 'prediction', 'max_depth': 6, 'num_round': 100, 'lambda': 3.0}\n",
      "LOG-LOSS: 0.4999571247222699, ROC-AUC: 0.7394917349880108                         \n",
      "SPACE:                                                                            \n",
      "{'labelCol': 'label', 'colsample_bytree': 1.0, 'nthread': 1, 'min_child_weight': 50.0, 'eta': 0.5, 'nworkers': 1, 'alpha': 0.7, 'eval_metric': 'logloss', 'gamma': 0.4, 'objective': 'binary:logistic', 'featuresCol': 'features', 'silent': 0, 'subsample': 1.0, 'predictionCol': 'prediction', 'max_depth': 6, 'num_round': 100, 'lambda': 0.0}\n",
      "LOG-LOSS: 0.5004349764545957, ROC-AUC: 0.7389036774607425                         \n",
      "SPACE:                                                                            \n",
      "{'labelCol': 'label', 'colsample_bytree': 1.0, 'nthread': 1, 'min_child_weight': 50.0, 'eta': 0.5, 'nworkers': 1, 'alpha': 0.7, 'eval_metric': 'logloss', 'gamma': 0.4, 'objective': 'binary:logistic', 'featuresCol': 'features', 'silent': 0, 'subsample': 1.0, 'predictionCol': 'prediction', 'max_depth': 6, 'num_round': 100, 'lambda': 3.0}\n",
      "LOG-LOSS: 0.5001628219029877, ROC-AUC: 0.739163538564656                          \n",
      "SPACE:                                                                            \n",
      "{'labelCol': 'label', 'colsample_bytree': 1.0, 'nthread': 1, 'min_child_weight': 50.0, 'eta': 0.5, 'nworkers': 1, 'alpha': 1.5, 'eval_metric': 'logloss', 'gamma': 0.4, 'objective': 'binary:logistic', 'featuresCol': 'features', 'silent': 0, 'subsample': 1.0, 'predictionCol': 'prediction', 'max_depth': 6, 'num_round': 100, 'lambda': 0.1}\n",
      "LOG-LOSS: 0.5004309397053442, ROC-AUC: 0.7388354861635412                         \n",
      "SPACE:                                                                            \n",
      "{'labelCol': 'label', 'colsample_bytree': 1.0, 'nthread': 1, 'min_child_weight': 50.0, 'eta': 0.5, 'nworkers': 1, 'alpha': 0.7, 'eval_metric': 'logloss', 'gamma': 0.4, 'objective': 'binary:logistic', 'featuresCol': 'features', 'silent': 0, 'subsample': 1.0, 'predictionCol': 'prediction', 'max_depth': 6, 'num_round': 100, 'lambda': 0.0}\n"
     ]
    },
    {
     "name": "stdout",
     "output_type": "stream",
     "text": [
      "LOG-LOSS: 0.5004349764545957, ROC-AUC: 0.7389036774607407                         \n",
      "SPACE:                                                                            \n",
      "{'labelCol': 'label', 'colsample_bytree': 1.0, 'nthread': 1, 'min_child_weight': 50.0, 'eta': 0.5, 'nworkers': 1, 'alpha': 0.3, 'eval_metric': 'logloss', 'gamma': 0.4, 'objective': 'binary:logistic', 'featuresCol': 'features', 'silent': 0, 'subsample': 1.0, 'predictionCol': 'prediction', 'max_depth': 6, 'num_round': 100, 'lambda': 1.5}\n",
      "LOG-LOSS: 0.5002497242057075, ROC-AUC: 0.7391441974556907                         \n",
      "SPACE:                                                                            \n",
      "{'labelCol': 'label', 'colsample_bytree': 1.0, 'nthread': 1, 'min_child_weight': 50.0, 'eta': 0.5, 'nworkers': 1, 'alpha': 0.1, 'eval_metric': 'logloss', 'gamma': 0.4, 'objective': 'binary:logistic', 'featuresCol': 'features', 'silent': 0, 'subsample': 1.0, 'predictionCol': 'prediction', 'max_depth': 6, 'num_round': 100, 'lambda': 0.0}\n",
      "LOG-LOSS: 0.5004727174576284, ROC-AUC: 0.7387068185403236                         \n",
      "SPACE:                                                                            \n",
      "{'labelCol': 'label', 'colsample_bytree': 1.0, 'nthread': 1, 'min_child_weight': 50.0, 'eta': 0.5, 'nworkers': 1, 'alpha': 0.7, 'eval_metric': 'logloss', 'gamma': 0.4, 'objective': 'binary:logistic', 'featuresCol': 'features', 'silent': 0, 'subsample': 1.0, 'predictionCol': 'prediction', 'max_depth': 6, 'num_round': 100, 'lambda': 0.0}\n",
      "LOG-LOSS: 0.5004349764545957, ROC-AUC: 0.7389036774607405                         \n",
      "100%|██████████| 20/20 [46:28<00:00, 139.43s/trial, best loss: 0.4999571247222699]\n",
      "{'alpha': 2, 'reg_lambda': 5}\n",
      "CPU times: user 2.72 s, sys: 654 ms, total: 3.38 s\n",
      "Wall time: 46min 28s\n"
     ]
    }
   ],
   "source": [
    "%%time\n",
    "\n",
    "alpha_choice = [0.0, 0.1, 0.3, 0.7, 1.5, 3.0]\n",
    "lambda_choice = [0.0, 0.1, 0.5, 1.0, 1.5, 3.0]\n",
    "\n",
    "space_4 = {\n",
    "    # Optimize\n",
    "    'alpha': hp.choice('alpha', alpha_choice),\n",
    "    'reg_lambda': hp.choice('reg_lambda', lambda_choice),\n",
    "\n",
    "    # Fixed    \n",
    "    'num_round': num_round,\n",
    "    'eta': eta,\n",
    "    'gamma': gamma,\n",
    "    'max_depth': max_depth,\n",
    "    'min_child_weight': min_child_weight,\n",
    "    'subsample': subsample,\n",
    "    'colsample_bytree': colsample_bytree,\n",
    "    \n",
    "    **static_params\n",
    "}\n",
    "\n",
    "\n",
    "trials_4 = Trials()\n",
    "best_4 = fmin(fn=objective,\n",
    "            space=space_4,\n",
    "            algo=tpe.suggest,\n",
    "            max_evals=20,\n",
    "            trials=trials_4)\n",
    "print(best_4)"
   ]
  },
  {
   "cell_type": "code",
   "execution_count": 34,
   "metadata": {},
   "outputs": [],
   "source": [
    "alpha = alpha_choice[best_4['alpha']]\n",
    "reg_lambda = lambda_choice[best_4['reg_lambda']]"
   ]
  },
  {
   "cell_type": "code",
   "execution_count": 14,
   "metadata": {},
   "outputs": [
    {
     "data": {
      "text/plain": [
       "(0.3, 3.0)"
      ]
     },
     "execution_count": 14,
     "metadata": {},
     "output_type": "execute_result"
    }
   ],
   "source": [
    "alpha = [0.0, 0.1, 0.3, 0.7, 1.5, 3.0][2]\n",
    "reg_lambda = [0.0, 0.1, 0.5, 1.0, 1.5, 3.0][5]\n",
    "\n",
    "alpha, reg_lambda"
   ]
  },
  {
   "cell_type": "markdown",
   "metadata": {},
   "source": [
    "### Lower the learning rate and decide the optimal parameters"
   ]
  },
  {
   "cell_type": "code",
   "execution_count": 35,
   "metadata": {},
   "outputs": [
    {
     "name": "stdout",
     "output_type": "stream",
     "text": [
      "SPACE:                                                \n",
      "{'labelCol': 'label', 'colsample_bytree': 0.9, 'nthread': 1, 'min_child_weight': 70.0, 'eta': 0.05, 'nworkers': 1, 'alpha': 0.3, 'eval_metric': 'logloss', 'gamma': 0.5, 'objective': 'binary:logistic', 'featuresCol': 'features', 'silent': 0, 'subsample': 0.9, 'predictionCol': 'prediction', 'max_depth': 6, 'num_round': 150, 'lambda': 4.0}\n",
      "LOG-LOSS: 0.505043543869428, ROC-AUC: 0.7329799266302088\n",
      "SPACE:                                                                            \n",
      "{'labelCol': 'label', 'colsample_bytree': 0.9, 'nthread': 1, 'min_child_weight': 70.0, 'eta': 0.05, 'nworkers': 1, 'alpha': 0.2, 'eval_metric': 'logloss', 'gamma': 0.6, 'objective': 'binary:logistic', 'featuresCol': 'features', 'silent': 0, 'subsample': 0.9, 'predictionCol': 'prediction', 'max_depth': 6, 'num_round': 150, 'lambda': 2.0}\n",
      "LOG-LOSS: 0.5050005749054789, ROC-AUC: 0.7329889466585511                         \n",
      "SPACE:                                                                             \n",
      "{'labelCol': 'label', 'colsample_bytree': 1.0, 'nthread': 1, 'min_child_weight': 70.0, 'eta': 0.05, 'nworkers': 1, 'alpha': 0.4, 'eval_metric': 'logloss', 'gamma': 0.5, 'objective': 'binary:logistic', 'featuresCol': 'features', 'silent': 0, 'subsample': 0.9, 'predictionCol': 'prediction', 'max_depth': 7, 'num_round': 150, 'lambda': 4.0}\n",
      "LOG-LOSS: 0.5038136867536239, ROC-AUC: 0.7346747558138924                          \n",
      "SPACE:                                                                             \n",
      "{'labelCol': 'label', 'colsample_bytree': 1.0, 'nthread': 1, 'min_child_weight': 70.0, 'eta': 0.05, 'nworkers': 1, 'alpha': 0.4, 'eval_metric': 'logloss', 'gamma': 0.6, 'objective': 'binary:logistic', 'featuresCol': 'features', 'silent': 0, 'subsample': 0.9, 'predictionCol': 'prediction', 'max_depth': 6, 'num_round': 150, 'lambda': 4.0}\n",
      "LOG-LOSS: 0.5049519883189398, ROC-AUC: 0.7330181924929039                          \n",
      "SPACE:                                                                             \n",
      "{'labelCol': 'label', 'colsample_bytree': 0.9, 'nthread': 1, 'min_child_weight': 70.0, 'eta': 0.05, 'nworkers': 1, 'alpha': 0.3, 'eval_metric': 'logloss', 'gamma': 0.5, 'objective': 'binary:logistic', 'featuresCol': 'features', 'silent': 0, 'subsample': 1.0, 'predictionCol': 'prediction', 'max_depth': 6, 'num_round': 150, 'lambda': 4.0}\n",
      "LOG-LOSS: 0.5049690711226112, ROC-AUC: 0.733048728057998                         \n",
      "SPACE:                                                                           \n",
      "{'labelCol': 'label', 'colsample_bytree': 0.9, 'nthread': 1, 'min_child_weight': 70.0, 'eta': 0.05, 'nworkers': 1, 'alpha': 0.3, 'eval_metric': 'logloss', 'gamma': 0.5, 'objective': 'binary:logistic', 'featuresCol': 'features', 'silent': 0, 'subsample': 0.9, 'predictionCol': 'prediction', 'max_depth': 7, 'num_round': 150, 'lambda': 4.0}\n",
      "LOG-LOSS: 0.5038422252882475, ROC-AUC: 0.7346151395394087                        \n",
      "SPACE:                                                                           \n",
      "{'labelCol': 'label', 'colsample_bytree': 0.9, 'nthread': 1, 'min_child_weight': 60.0, 'eta': 0.05, 'nworkers': 1, 'alpha': 0.4, 'eval_metric': 'logloss', 'gamma': 0.6, 'objective': 'binary:logistic', 'featuresCol': 'features', 'silent': 0, 'subsample': 1.0, 'predictionCol': 'prediction', 'max_depth': 6, 'num_round': 100, 'lambda': 4.0}\n",
      "LOG-LOSS: 0.5067333125929769, ROC-AUC: 0.7306590161987709                        \n",
      "SPACE:                                                                           \n",
      "{'labelCol': 'label', 'colsample_bytree': 1.0, 'nthread': 1, 'min_child_weight': 70.0, 'eta': 0.05, 'nworkers': 1, 'alpha': 0.4, 'eval_metric': 'logloss', 'gamma': 0.4, 'objective': 'binary:logistic', 'featuresCol': 'features', 'silent': 0, 'subsample': 0.9, 'predictionCol': 'prediction', 'max_depth': 6, 'num_round': 150, 'lambda': 4.0}\n",
      "LOG-LOSS: 0.5049219614344516, ROC-AUC: 0.7330899884280851                        \n",
      "SPACE:                                                                           \n",
      "{'labelCol': 'label', 'colsample_bytree': 0.9, 'nthread': 1, 'min_child_weight': 70.0, 'eta': 0.05, 'nworkers': 1, 'alpha': 0.3, 'eval_metric': 'logloss', 'gamma': 0.6, 'objective': 'binary:logistic', 'featuresCol': 'features', 'silent': 0, 'subsample': 1.0, 'predictionCol': 'prediction', 'max_depth': 6, 'num_round': 150, 'lambda': 3.0}\n",
      "LOG-LOSS: 0.5049870028605873, ROC-AUC: 0.7329576851289399                        \n",
      "SPACE:                                                                           \n",
      "{'labelCol': 'label', 'colsample_bytree': 0.9, 'nthread': 1, 'min_child_weight': 70.0, 'eta': 0.05, 'nworkers': 1, 'alpha': 0.2, 'eval_metric': 'logloss', 'gamma': 0.5, 'objective': 'binary:logistic', 'featuresCol': 'features', 'silent': 0, 'subsample': 0.9, 'predictionCol': 'prediction', 'max_depth': 6, 'num_round': 100, 'lambda': 3.0}\n",
      "LOG-LOSS: 0.5068457520249604, ROC-AUC: 0.7305003786250847                        \n",
      "SPACE:                                                                            \n",
      "{'labelCol': 'label', 'colsample_bytree': 1.0, 'nthread': 1, 'min_child_weight': 70.0, 'eta': 0.05, 'nworkers': 1, 'alpha': 0.3, 'eval_metric': 'logloss', 'gamma': 0.4, 'objective': 'binary:logistic', 'featuresCol': 'features', 'silent': 0, 'subsample': 1.0, 'predictionCol': 'prediction', 'max_depth': 7, 'num_round': 150, 'lambda': 2.0}\n",
      "LOG-LOSS: 0.5039676256881153, ROC-AUC: 0.7344550015158169                         \n",
      "SPACE:                                                                            \n",
      "{'labelCol': 'label', 'colsample_bytree': 1.0, 'nthread': 1, 'min_child_weight': 50.0, 'eta': 0.05, 'nworkers': 1, 'alpha': 0.2, 'eval_metric': 'logloss', 'gamma': 0.5, 'objective': 'binary:logistic', 'featuresCol': 'features', 'silent': 0, 'subsample': 1.0, 'predictionCol': 'prediction', 'max_depth': 6, 'num_round': 100, 'lambda': 3.0}\n",
      "LOG-LOSS: 0.5066598342654821, ROC-AUC: 0.7307557192789876                         \n",
      "SPACE:                                                                            \n",
      "{'labelCol': 'label', 'colsample_bytree': 0.9, 'nthread': 1, 'min_child_weight': 70.0, 'eta': 0.05, 'nworkers': 1, 'alpha': 0.3, 'eval_metric': 'logloss', 'gamma': 0.6, 'objective': 'binary:logistic', 'featuresCol': 'features', 'silent': 0, 'subsample': 1.0, 'predictionCol': 'prediction', 'max_depth': 7, 'num_round': 150, 'lambda': 2.0}\n",
      "LOG-LOSS: 0.5039014407271372, ROC-AUC: 0.7345858478027862                         \n",
      "SPACE:                                                                            \n",
      "{'labelCol': 'label', 'colsample_bytree': 0.9, 'nthread': 1, 'min_child_weight': 50.0, 'eta': 0.05, 'nworkers': 1, 'alpha': 0.4, 'eval_metric': 'logloss', 'gamma': 0.6, 'objective': 'binary:logistic', 'featuresCol': 'features', 'silent': 0, 'subsample': 0.9, 'predictionCol': 'prediction', 'max_depth': 6, 'num_round': 100, 'lambda': 2.0}\n",
      "LOG-LOSS: 0.5068564282320982, ROC-AUC: 0.730442271811522                          \n",
      "SPACE:                                                                            \n",
      "{'labelCol': 'label', 'colsample_bytree': 0.9, 'nthread': 1, 'min_child_weight': 50.0, 'eta': 0.05, 'nworkers': 1, 'alpha': 0.4, 'eval_metric': 'logloss', 'gamma': 0.5, 'objective': 'binary:logistic', 'featuresCol': 'features', 'silent': 0, 'subsample': 1.0, 'predictionCol': 'prediction', 'max_depth': 7, 'num_round': 100, 'lambda': 2.0}\n",
      "LOG-LOSS: 0.5055896625571368, ROC-AUC: 0.7322204491316225                         \n",
      "SPACE:                                                                            \n",
      "{'labelCol': 'label', 'colsample_bytree': 1.0, 'nthread': 1, 'min_child_weight': 50.0, 'eta': 0.05, 'nworkers': 1, 'alpha': 0.4, 'eval_metric': 'logloss', 'gamma': 0.6, 'objective': 'binary:logistic', 'featuresCol': 'features', 'silent': 0, 'subsample': 0.9, 'predictionCol': 'prediction', 'max_depth': 7, 'num_round': 150, 'lambda': 2.0}\n",
      "LOG-LOSS: 0.5038472170131217, ROC-AUC: 0.7345805919921446                         \n",
      "SPACE:                                                                            \n",
      "{'labelCol': 'label', 'colsample_bytree': 0.9, 'nthread': 1, 'min_child_weight': 70.0, 'eta': 0.05, 'nworkers': 1, 'alpha': 0.2, 'eval_metric': 'logloss', 'gamma': 0.4, 'objective': 'binary:logistic', 'featuresCol': 'features', 'silent': 0, 'subsample': 0.9, 'predictionCol': 'prediction', 'max_depth': 7, 'num_round': 100, 'lambda': 4.0}\n"
     ]
    },
    {
     "name": "stdout",
     "output_type": "stream",
     "text": [
      "LOG-LOSS: 0.505657776077862, ROC-AUC: 0.7321075859855927                          \n",
      "SPACE:                                                                            \n",
      "{'labelCol': 'label', 'colsample_bytree': 1.0, 'nthread': 1, 'min_child_weight': 50.0, 'eta': 0.05, 'nworkers': 1, 'alpha': 0.4, 'eval_metric': 'logloss', 'gamma': 0.4, 'objective': 'binary:logistic', 'featuresCol': 'features', 'silent': 0, 'subsample': 0.9, 'predictionCol': 'prediction', 'max_depth': 6, 'num_round': 150, 'lambda': 2.0}\n",
      "LOG-LOSS: 0.504896653993036, ROC-AUC: 0.7331208859742133                          \n",
      "SPACE:                                                                              \n",
      "{'labelCol': 'label', 'colsample_bytree': 0.9, 'nthread': 1, 'min_child_weight': 50.0, 'eta': 0.05, 'nworkers': 1, 'alpha': 0.4, 'eval_metric': 'logloss', 'gamma': 0.6, 'objective': 'binary:logistic', 'featuresCol': 'features', 'silent': 0, 'subsample': 1.0, 'predictionCol': 'prediction', 'max_depth': 6, 'num_round': 150, 'lambda': 2.0}\n",
      "LOG-LOSS: 0.5049509650327492, ROC-AUC: 0.7330874066560956                           \n",
      "SPACE:                                                                              \n",
      "{'labelCol': 'label', 'colsample_bytree': 1.0, 'nthread': 1, 'min_child_weight': 60.0, 'eta': 0.05, 'nworkers': 1, 'alpha': 0.3, 'eval_metric': 'logloss', 'gamma': 0.4, 'objective': 'binary:logistic', 'featuresCol': 'features', 'silent': 0, 'subsample': 0.9, 'predictionCol': 'prediction', 'max_depth': 7, 'num_round': 150, 'lambda': 3.0}\n",
      "LOG-LOSS: 0.5037967869065424, ROC-AUC: 0.7346742418778371                           \n",
      "100%|██████████| 20/20 [1:08:40<00:00, 206.04s/trial, best loss: 0.5037967869065424]\n",
      "{'gamma': 0, 'alpha': 1, 'reg_lambda': 1, 'max_depth': 1, 'min_child_weight': 1, 'colsample_bytree': 1, 'num_round': 1, 'subsample': 0}\n",
      "CPU times: user 2.91 s, sys: 687 ms, total: 3.6 s\n",
      "Wall time: 1h 8min 40s\n"
     ]
    }
   ],
   "source": [
    "%%time\n",
    "\n",
    "max_depth_choice_final = [6, 7]\n",
    "min_child_weight_choice_final = [50.0, 60.0, 70.0]\n",
    "gamma_choice_final = [0.4, 0.5, 0.6]\n",
    "subsample_choice_final = [0.9, 1.0] \n",
    "colsample_bytree_choice_final = [0.9, 1.0]\n",
    "alpha_choice_final = [0.2, 0.3, 0.4]\n",
    "lambda_choice_final = [2.0, 3.0, 4.0]\n",
    "num_round_choice_final = [100, 150]\n",
    "\n",
    "\n",
    "space_final = {\n",
    "    # Optimize\n",
    "    'max_depth': hp.choice('max_depth', max_depth_choice_final),\n",
    "    'min_child_weight': hp.choice('min_child_weight', min_child_weight_choice_final),\n",
    "    'gamma': hp.choice('gamma', gamma_choice_final),\n",
    "    'subsample': hp.choice('subsample', subsample_choice_final),\n",
    "    'colsample_bytree': hp.choice('colsample_bytree', colsample_bytree_choice_final),\n",
    "    'alpha': hp.choice('alpha', alpha_choice_final),\n",
    "    'reg_lambda': hp.choice('reg_lambda', lambda_choice_final),\n",
    "    'num_round': hp.choice('num_round', num_round_choice_final),\n",
    "    \n",
    "    # Fixed\n",
    "    'eta': 0.05,\n",
    "    \n",
    "    **static_params\n",
    "}\n",
    "\n",
    "\n",
    "trials_final = Trials()\n",
    "best_final = fmin(fn=objective,\n",
    "            space=space_final,\n",
    "            algo=tpe.suggest,\n",
    "            max_evals=20,\n",
    "            trials=trials_final)\n",
    "print(best_final)\n",
    "\n",
    "final_params = {\n",
    "    'colsample_bytree': colsample_bytree_choice_final[best_final['colsample_bytree']],\n",
    "    'eta': eta,\n",
    "    'gamma': gamma_choice_final[best_final['gamma']],\n",
    "    'max_depth': max_depth_choice_final[best_final['max_depth']],\n",
    "    'min_child_weight': min_child_weight_choice_final[best_final['min_child_weight']],\n",
    "    'subsample': subsample_choice_final[best_final['subsample']],\n",
    "    'num_round': num_round_choice_final[best_final['num_round']],\n",
    "    'alpha': alpha_choice_final[best_final['alpha']],\n",
    "    'reg_lambda': lambda_choice_final[best_final['reg_lambda']],\n",
    "}"
   ]
  },
  {
   "cell_type": "code",
   "execution_count": 15,
   "metadata": {},
   "outputs": [
    {
     "data": {
      "text/plain": [
       "{'alpha': 0.3,\n",
       " 'colsample_bytree': 1.0,\n",
       " 'eta': 0.5,\n",
       " 'gamma': 0.4,\n",
       " 'max_depth': 7,\n",
       " 'min_child_weight': 60.0,\n",
       " 'num_round': 150,\n",
       " 'reg_lambda': 3.0,\n",
       " 'subsample': 0.9}"
      ]
     },
     "execution_count": 15,
     "metadata": {},
     "output_type": "execute_result"
    }
   ],
   "source": [
    "max_depth_choice_final = [6, 7]\n",
    "min_child_weight_choice_final = [50.0, 60.0, 70.0]\n",
    "gamma_choice_final = [0.4, 0.5, 0.6]\n",
    "subsample_choice_final = [0.9, 1.0] \n",
    "colsample_bytree_choice_final = [0.9, 1.0]\n",
    "alpha_choice_final = [0.2, 0.3, 0.4]\n",
    "lambda_choice_final = [2.0, 3.0, 4.0]\n",
    "num_round_choice_final = [100, 150]\n",
    "\n",
    "final_params = {\n",
    "    'colsample_bytree': colsample_bytree_choice_final[1],\n",
    "    'eta': eta,\n",
    "    'gamma': gamma_choice_final[0],\n",
    "    'max_depth': max_depth_choice_final[1],\n",
    "    'min_child_weight': min_child_weight_choice_final[1],\n",
    "    'subsample': subsample_choice_final[0],\n",
    "    'num_round': num_round_choice_final[1],\n",
    "    'alpha': alpha_choice_final[1],\n",
    "    'reg_lambda': lambda_choice_final[1],\n",
    "}\n",
    "\n",
    "final_params"
   ]
  },
  {
   "cell_type": "markdown",
   "metadata": {},
   "source": [
    "---\n",
    "## LogisticRegression Tuning\n",
    "\n",
    "Подберем гиперпараметры для логрега из предыдущих практик"
   ]
  },
  {
   "cell_type": "code",
   "execution_count": 21,
   "metadata": {},
   "outputs": [],
   "source": [
    "from hyperopt import fmin, tpe, hp, Trials, STATUS_OK\n",
    "import scipy.stats as st\n",
    "from pyspark.ml.classification import LogisticRegression\n",
    "\n",
    "\n",
    "def objective_lr(space):\n",
    "    estimator = LogisticRegression(**space)\n",
    "    print('SPACE:', estimator._input_kwargs)\n",
    "    success = False\n",
    "    attempts = 0\n",
    "    model = None\n",
    "    while not success and attempts < 2:\n",
    "        try:\n",
    "            model = estimator.fit(train_df)\n",
    "            success = True\n",
    "        except Exception as e:\n",
    "            attempts += 1\n",
    "            print(e)\n",
    "            print('Try again')\n",
    "        \n",
    "    log_loss = logloss(model, val_df, probabilities_col='probability')\n",
    "    roc_auc = rocauc(model, val_df, probabilities_col='probability')\n",
    "    \n",
    "    print('LOG-LOSS: {}, ROC-AUC: {}'.format(log_loss, roc_auc))\n",
    "\n",
    "    return {'loss': log_loss, 'rocauc': roc_auc, 'status': STATUS_OK }"
   ]
  },
  {
   "cell_type": "code",
   "execution_count": 22,
   "metadata": {},
   "outputs": [],
   "source": [
    "CONTROL_NAME_LR = 'lr baseline'\n",
    "\n",
    "static_params_lr = {\n",
    "    'featuresCol': \"features\", \n",
    "    'labelCol': \"label\", \n",
    "    'maxIter': 15,\n",
    "}\n",
    "prev_params_lr = {'elasticNetParam': 1, 'fitIntercept': True, 'regParam': 0}\n",
    "\n",
    "merged = {**static_params_lr, **prev_params_lr}\n",
    "baseline_model_lr = LogisticRegression(**merged).fit(train_df)"
   ]
  },
  {
   "cell_type": "code",
   "execution_count": 27,
   "metadata": {},
   "outputs": [
    {
     "data": {
      "text/plain": [
       "{'lr baseline': {'logloss': 0.5311226907739438, 'rocauc': 0.7007963446486266},\n",
       " 'xgb baseline': {'logloss': 0.5136422657623795, 'rocauc': 0.725208836729057}}"
      ]
     },
     "execution_count": 27,
     "metadata": {},
     "output_type": "execute_result"
    }
   ],
   "source": [
    "baseline_test_metrics_lr = {\n",
    "    'logloss': logloss(baseline_model_lr, test_df, probabilities_col='probability'),\n",
    "    'rocauc': rocauc(baseline_model_lr, test_df, probabilities_col='probability')\n",
    "}\n",
    "\n",
    "all_metrics[CONTROL_NAME_LR] = baseline_test_metrics_lr\n",
    "all_metrics"
   ]
  },
  {
   "cell_type": "code",
   "execution_count": 28,
   "metadata": {},
   "outputs": [
    {
     "name": "stdout",
     "output_type": "stream",
     "text": [
      "SPACE:                                                \n",
      "{'elasticNetParam': 1, 'featuresCol': 'features', 'regParam': 0.0, 'labelCol': 'label', 'maxIter': 15, 'fitIntercept': True}\n",
      "LOG-LOSS: 0.5279326290586741, ROC-AUC: 0.7031880786148457\n",
      "SPACE:                                                                          \n",
      "{'elasticNetParam': 0.5, 'featuresCol': 'features', 'regParam': 0.0, 'labelCol': 'label', 'maxIter': 15, 'fitIntercept': False}\n",
      "LOG-LOSS: 0.5278683217330382, ROC-AUC: 0.7031251222098683                       \n",
      "SPACE:                                                                          \n",
      "{'elasticNetParam': 0.1, 'featuresCol': 'features', 'regParam': 0.01, 'labelCol': 'label', 'maxIter': 15, 'fitIntercept': True}\n",
      "LOG-LOSS: 0.5283276953838569, ROC-AUC: 0.7037407395505592                       \n",
      "SPACE:                                                                          \n",
      "{'elasticNetParam': 0.5, 'featuresCol': 'features', 'regParam': 0.01, 'labelCol': 'label', 'maxIter': 15, 'fitIntercept': True}\n",
      "LOG-LOSS: 0.5359450992985795, ROC-AUC: 0.6960456126734572                       \n",
      "SPACE:                                                                          \n",
      "{'elasticNetParam': 0.5, 'featuresCol': 'features', 'regParam': 0.01, 'labelCol': 'label', 'maxIter': 15, 'fitIntercept': True}\n",
      "LOG-LOSS: 0.5359450992985795, ROC-AUC: 0.696045612673454                        \n",
      "SPACE:                                                                          \n",
      "{'elasticNetParam': 0.5, 'featuresCol': 'features', 'regParam': 0.0, 'labelCol': 'label', 'maxIter': 15, 'fitIntercept': False}\n",
      "LOG-LOSS: 0.5278683217330382, ROC-AUC: 0.7031251222098668                       \n",
      "SPACE:                                                                          \n",
      "{'elasticNetParam': 0.2, 'featuresCol': 'features', 'regParam': 0.5, 'labelCol': 'label', 'maxIter': 15, 'fitIntercept': True}\n",
      "LOG-LOSS: 0.5747882782207934, ROC-AUC: 0.5                                      \n",
      "SPACE:                                                                          \n",
      "{'elasticNetParam': 1, 'featuresCol': 'features', 'regParam': 0.0, 'labelCol': 'label', 'maxIter': 15, 'fitIntercept': True}\n",
      "LOG-LOSS: 0.5279326290586741, ROC-AUC: 0.7031880786148502                       \n",
      "SPACE:                                                                          \n",
      "{'elasticNetParam': 1, 'featuresCol': 'features', 'regParam': 0.01, 'labelCol': 'label', 'maxIter': 15, 'fitIntercept': True}\n",
      "LOG-LOSS: 0.5416530802464076, ROC-AUC: 0.6888123326610927                       \n",
      "SPACE:                                                                          \n",
      "{'elasticNetParam': 1, 'featuresCol': 'features', 'regParam': 0.01, 'labelCol': 'label', 'maxIter': 15, 'fitIntercept': True}\n",
      "LOG-LOSS: 0.5416530802464076, ROC-AUC: 0.6888123326610835                       \n",
      "SPACE:                                                                           \n",
      "{'elasticNetParam': 0.2, 'featuresCol': 'features', 'regParam': 0.01, 'labelCol': 'label', 'maxIter': 15, 'fitIntercept': False}\n",
      "LOG-LOSS: 0.532128210387189, ROC-AUC: 0.6958297409196661                         \n",
      "SPACE:                                                                           \n",
      "{'elasticNetParam': 0.0, 'featuresCol': 'features', 'regParam': 0.0, 'labelCol': 'label', 'maxIter': 15, 'fitIntercept': False}\n",
      "LOG-LOSS: 0.5278683217330382, ROC-AUC: 0.7031251222098664                        \n",
      "SPACE:                                                                           \n",
      "{'elasticNetParam': 0.1, 'featuresCol': 'features', 'regParam': 0.5, 'labelCol': 'label', 'maxIter': 15, 'fitIntercept': False}\n",
      "LOG-LOSS: 0.6211993342754943, ROC-AUC: 0.5411229833459517                        \n",
      "SPACE:                                                                           \n",
      "{'elasticNetParam': 0.1, 'featuresCol': 'features', 'regParam': 0.0, 'labelCol': 'label', 'maxIter': 15, 'fitIntercept': True}\n",
      "LOG-LOSS: 0.5279326290586741, ROC-AUC: 0.703188078614856                         \n",
      "SPACE:                                                                           \n",
      "{'elasticNetParam': 0.5, 'featuresCol': 'features', 'regParam': 0.5, 'labelCol': 'label', 'maxIter': 15, 'fitIntercept': False}\n",
      "LOG-LOSS: 0.693147180558761, ROC-AUC: 0.5                                        \n",
      "SPACE:                                                                           \n",
      "{'elasticNetParam': 0.5, 'featuresCol': 'features', 'regParam': 0.1, 'labelCol': 'label', 'maxIter': 15, 'fitIntercept': True}\n",
      "LOG-LOSS: 0.56355078090836, ROC-AUC: 0.6635881797275238                          \n",
      "SPACE:                                                                           \n",
      "{'elasticNetParam': 0.1, 'featuresCol': 'features', 'regParam': 0.01, 'labelCol': 'label', 'maxIter': 15, 'fitIntercept': False}\n",
      "LOG-LOSS: 0.5290928708241416, ROC-AUC: 0.7006358854720606                        \n",
      "SPACE:                                                                           \n",
      "{'elasticNetParam': 0.2, 'featuresCol': 'features', 'regParam': 0.1, 'labelCol': 'label', 'maxIter': 15, 'fitIntercept': True}\n",
      "LOG-LOSS: 0.5538399548370356, ROC-AUC: 0.6809894852484832                        \n",
      "SPACE:                                                                           \n",
      "{'elasticNetParam': 0.2, 'featuresCol': 'features', 'regParam': 0.1, 'labelCol': 'label', 'maxIter': 15, 'fitIntercept': False}\n",
      "LOG-LOSS: 0.5759808844751888, ROC-AUC: 0.5958951100036921                        \n",
      "SPACE:                                                                           \n",
      "{'elasticNetParam': 0.2, 'featuresCol': 'features', 'regParam': 0.5, 'labelCol': 'label', 'maxIter': 15, 'fitIntercept': False}\n",
      "LOG-LOSS: 0.6456585089729682, ROC-AUC: 0.5197801219054273                        \n",
      "100%|██████████| 20/20 [04:46<00:00, 14.31s/trial, best loss: 0.5278683217330382]\n",
      "{'elasticNetParam': 3, 'regParam': 0, 'fitIntercept': 1}\n"
     ]
    },
    {
     "ename": "NameError",
     "evalue": "name 'best_final' is not defined",
     "output_type": "error",
     "traceback": [
      "\u001b[0;31m---------------------------------------------------------------------------\u001b[0m",
      "\u001b[0;31mNameError\u001b[0m                                 Traceback (most recent call last)",
      "\u001b[0;32m<timed exec>\u001b[0m in \u001b[0;36m<module>\u001b[0;34m\u001b[0m\n",
      "\u001b[0;31mNameError\u001b[0m: name 'best_final' is not defined"
     ]
    }
   ],
   "source": [
    "%%time\n",
    "\n",
    "regParam_choice = [0., 0.01, 0.5, 0.1]\n",
    "elasticNetParam_choice = [0., 0.1, 0.2, 0.5, 1]\n",
    "fitIntercept_choice = [True, False]\n",
    "\n",
    "space_lr = {\n",
    "    'regParam': hp.choice('regParam', regParam_choice),\n",
    "    'elasticNetParam': hp.choice('elasticNetParam', elasticNetParam_choice),\n",
    "    'fitIntercept': hp.choice('fitIntercept', fitIntercept_choice),\n",
    "    \n",
    "    **static_params_lr\n",
    "}\n",
    "\n",
    "\n",
    "trials_lr = Trials()\n",
    "best_lr = fmin(fn=objective_lr,\n",
    "            space=space_lr,\n",
    "            algo=tpe.suggest,\n",
    "            max_evals=20,\n",
    "            trials=trials_lr)\n",
    "\n",
    "print(best_lr)"
   ]
  },
  {
   "cell_type": "code",
   "execution_count": 29,
   "metadata": {},
   "outputs": [
    {
     "data": {
      "text/plain": [
       "{'elasticNetParam': 0.5, 'fitIntercept': False, 'regParam': 0.0}"
      ]
     },
     "execution_count": 29,
     "metadata": {},
     "output_type": "execute_result"
    }
   ],
   "source": [
    "final_params_lr = {\n",
    "    'elasticNetParam': elasticNetParam_choice[best_lr['elasticNetParam']], \n",
    "    'fitIntercept': fitIntercept_choice[best_lr['fitIntercept']], \n",
    "    'regParam': regParam_choice[best_lr['regParam']]\n",
    "}\n",
    "\n",
    "final_params_lr"
   ]
  },
  {
   "cell_type": "code",
   "execution_count": 16,
   "metadata": {},
   "outputs": [],
   "source": [
    "final_params_lr = {'elasticNetParam': 0.5, 'fitIntercept': False, 'regParam': 0.0}"
   ]
  },
  {
   "cell_type": "markdown",
   "metadata": {},
   "source": [
    "---\n",
    "## Optional [MongoTrials](https://hyperopt.github.io/hyperopt/scaleout/mongodb/)\n",
    "\n",
    "> For parallel search, hyperopt includes a MongoTrials implementation that supports asynchronous updates.\n",
    "\n",
    "**TLDR** Преимущества использования `MongoTrials`:\n",
    "* `MongoTrials` позволяет параллельно запускать несколько вычислений целевой функции\n",
    "* Динамический уровень параллелизма - можно добавлять/удалять воркеров, которые вычисляют целевую функцию\n",
    "* Все результаты сохраняются в БД - история запусков никуда не потеряется\n",
    "\n",
    "*За выполнение данного задания можно получить дополнительно +0.4 к итоговому баллу*"
   ]
  },
  {
   "cell_type": "markdown",
   "metadata": {},
   "source": [
    "### XGBoost Tuning"
   ]
  },
  {
   "cell_type": "code",
   "execution_count": 40,
   "metadata": {},
   "outputs": [],
   "source": [
    "######################################\n",
    "######### YOUR CODE HERE #############\n",
    "######################################"
   ]
  },
  {
   "cell_type": "markdown",
   "metadata": {},
   "source": [
    "# Results\n",
    "\n",
    "Подведем итоги.\n",
    "\n",
    "Обучите модели с найденными (оптимальными) гиперпараметрами и сделайте справнение на отложенной выборке"
   ]
  },
  {
   "cell_type": "code",
   "execution_count": 17,
   "metadata": {},
   "outputs": [],
   "source": [
    "df = sqlContext.read.format(\"com.databricks.spark.csv\") \\\n",
    "    .option(\"delimiter\", \",\") \\\n",
    "    .option(\"header\", \"true\") \\\n",
    "    .option(\"inferSchema\", \"true\") \\\n",
    "    .load('file:///' + TRAIN_PATH)\n",
    "\n",
    "df = df.fillna(0, subset=num_columns)\n",
    "\n",
    "df = pipeline_model \\\n",
    "    .transform(df) \\\n",
    "    .select(F.col('_c0').alias('label'), 'features', 'id') \\\n",
    "    .cache()\n",
    "\n",
    "train_df, val_df, test_df = split_by_col(df, 'id', [0.8, 0.1, 0.1])"
   ]
  },
  {
   "cell_type": "code",
   "execution_count": 25,
   "metadata": {},
   "outputs": [],
   "source": [
    "all_metrics = {}\n",
    "prev_xgb_params = {**static_params, **start_params}\n",
    "baseline_model = XGBoostEstimator(**prev_xgb_params).fit(train_df)\n",
    "\n",
    "all_metrics[\"xgb baseline\"] = {\n",
    "    'logloss': logloss(baseline_model, test_df, probabilities_col='probabilities'),\n",
    "    'rocauc': rocauc(baseline_model, test_df, probabilities_col='probabilities')\n",
    "}"
   ]
  },
  {
   "cell_type": "code",
   "execution_count": 28,
   "metadata": {},
   "outputs": [],
   "source": [
    "final_xgb_params = {**static_params, **final_params}\n",
    "xgb_new_model = XGBoostEstimator(**final_xgb_params).fit(train_df)\n",
    "\n",
    "all_metrics['xgb final'] = {\n",
    "    'logloss': logloss(xgb_new_model, test_df, probabilities_col='probabilities'),\n",
    "    'rocauc': rocauc(xgb_new_model, test_df, probabilities_col='probabilities')\n",
    "}"
   ]
  },
  {
   "cell_type": "code",
   "execution_count": 29,
   "metadata": {},
   "outputs": [],
   "source": [
    "lr_model = LogisticRegression(**{**static_params_lr, **prev_params_lr}).fit(train_df)\n",
    "\n",
    "all_metrics['lr baseline'] = {\n",
    "    'logloss': logloss(lr_model, test_df, probabilities_col='probability'),\n",
    "    'rocauc': rocauc(lr_model, test_df, probabilities_col='probability')\n",
    "}"
   ]
  },
  {
   "cell_type": "code",
   "execution_count": 30,
   "metadata": {},
   "outputs": [],
   "source": [
    "lr_final_model = LogisticRegression(**{**static_params_lr, **final_params_lr}).fit(train_df)\n",
    "\n",
    "all_metrics['lr final'] = {\n",
    "    'logloss': logloss(lr_final_model, test_df, probabilities_col='probability'),\n",
    "    'rocauc': rocauc(lr_final_model, test_df, probabilities_col='probability')\n",
    "}"
   ]
  },
  {
   "cell_type": "markdown",
   "metadata": {},
   "source": [
    "Итоговая таблица"
   ]
  },
  {
   "cell_type": "code",
   "execution_count": 35,
   "metadata": {},
   "outputs": [
    {
     "data": {
      "text/html": [
       "<div>\n",
       "<style scoped>\n",
       "    .dataframe tbody tr th:only-of-type {\n",
       "        vertical-align: middle;\n",
       "    }\n",
       "\n",
       "    .dataframe tbody tr th {\n",
       "        vertical-align: top;\n",
       "    }\n",
       "\n",
       "    .dataframe thead th {\n",
       "        text-align: right;\n",
       "    }\n",
       "</style>\n",
       "<table border=\"1\" class=\"dataframe\">\n",
       "  <thead>\n",
       "    <tr style=\"text-align: right;\">\n",
       "      <th></th>\n",
       "      <th>lr baseline ate %</th>\n",
       "      <th>lr final ate %</th>\n",
       "      <th>metric</th>\n",
       "      <th>xgb final ate %</th>\n",
       "    </tr>\n",
       "  </thead>\n",
       "  <tbody>\n",
       "    <tr>\n",
       "      <th>0</th>\n",
       "      <td>-3.188660</td>\n",
       "      <td>-3.192870</td>\n",
       "      <td>rocauc</td>\n",
       "      <td>2.163623</td>\n",
       "    </tr>\n",
       "    <tr>\n",
       "      <th>1</th>\n",
       "      <td>3.148918</td>\n",
       "      <td>3.148291</td>\n",
       "      <td>logloss</td>\n",
       "      <td>-2.345035</td>\n",
       "    </tr>\n",
       "  </tbody>\n",
       "</table>\n",
       "</div>"
      ],
      "text/plain": [
       "   lr baseline ate %  lr final ate %   metric  xgb final ate %\n",
       "0          -3.188660       -3.192870   rocauc         2.163623\n",
       "1           3.148918        3.148291  logloss        -2.345035"
      ]
     },
     "execution_count": 35,
     "metadata": {},
     "output_type": "execute_result"
    }
   ],
   "source": [
    "get_ate(all_metrics, \"xgb baseline\")"
   ]
  },
  {
   "cell_type": "code",
   "execution_count": 32,
   "metadata": {},
   "outputs": [
    {
     "data": {
      "text/plain": [
       "{'lr baseline': {'logloss': 0.5299829461896662, 'rocauc': 0.7017485246832023},\n",
       " 'lr final': {'logloss': 0.5299797247351329, 'rocauc': 0.701718010310289},\n",
       " 'xgb baseline': {'logloss': 0.5138036910102037, 'rocauc': 0.7248619097892304},\n",
       " 'xgb final': {'logloss': 0.501754812085975, 'rocauc': 0.7405451857937936}}"
      ]
     },
     "execution_count": 32,
     "metadata": {},
     "output_type": "execute_result"
    }
   ],
   "source": [
    "all_metrics"
   ]
  },
  {
   "cell_type": "code",
   "execution_count": null,
   "metadata": {},
   "outputs": [],
   "source": []
  },
  {
   "cell_type": "code",
   "execution_count": 36,
   "metadata": {},
   "outputs": [],
   "source": [
    "TEST_PATH = os.path.join(DATA_PATH, 'test.csv')\n",
    "\n",
    "submit_df = sqlContext.read.format(\"com.databricks.spark.csv\") \\\n",
    "    .option(\"delimiter\", \",\") \\\n",
    "    .option(\"header\", \"true\") \\\n",
    "    .option(\"inferSchema\", \"true\") \\\n",
    "    .load('file:///' + TEST_PATH)"
   ]
  },
  {
   "cell_type": "code",
   "execution_count": 39,
   "metadata": {},
   "outputs": [],
   "source": [
    "from pyspark.ml import PipelineModel\n",
    "\n",
    "num_columns = ['_c{}'.format(i) for i in range(1, 14)]\n",
    "cat_columns = ['_c{}'.format(i) for i in range(14, 40)][:2]\n",
    "\n",
    "submit_df = submit_df.fillna(0, subset=num_columns)\n",
    "pipeline_model = PipelineModel.load(os.path.join(DATA_PATH, 'pipeline'))\n",
    "\n",
    "submit_df = pipeline_model \\\n",
    "    .transform(submit_df) \\\n",
    "    .select('features', 'id') \\\n",
    "    .cache()"
   ]
  },
  {
   "cell_type": "code",
   "execution_count": 45,
   "metadata": {},
   "outputs": [],
   "source": [
    "result = xgb_new_model.transform(submit_df)"
   ]
  },
  {
   "cell_type": "code",
   "execution_count": 47,
   "metadata": {},
   "outputs": [],
   "source": [
    "result = result\\\n",
    "    .withColumnRenamed('probabilities', 'proba')\\\n",
    "    .select('id', 'proba').rdd\\\n",
    "    .map(lambda arr: [int(arr[0]), float(arr[1][1])]) \\\n",
    "    .collect()"
   ]
  },
  {
   "cell_type": "code",
   "execution_count": 48,
   "metadata": {},
   "outputs": [],
   "source": [
    "import csv\n",
    "\n",
    "RESULT_PATH = os.path.join(DATA_PATH, 'xgb_model_opt_submission.csv')\n",
    "\n",
    "with open(RESULT_PATH, 'wt') as fout:\n",
    "    writer = csv.writer(fout)\n",
    "    writer.writerow(['id', 'proba'])\n",
    "    for line in result:\n",
    "        writer.writerow(line)"
   ]
  }
 ],
 "metadata": {
  "kernelspec": {
   "display_name": "Python 3",
   "language": "python",
   "name": "python3"
  },
  "language_info": {
   "codemirror_mode": {
    "name": "ipython",
    "version": 3
   },
   "file_extension": ".py",
   "mimetype": "text/x-python",
   "name": "python",
   "nbconvert_exporter": "python",
   "pygments_lexer": "ipython3",
   "version": "3.5.6"
  },
  "toc": {
   "base_numbering": 1,
   "nav_menu": {},
   "number_sections": true,
   "sideBar": true,
   "skip_h1_title": false,
   "title_cell": "Table of Contents",
   "title_sidebar": "Contents",
   "toc_cell": true,
   "toc_position": {},
   "toc_section_display": true,
   "toc_window_display": true
  }
 },
 "nbformat": 4,
 "nbformat_minor": 2
}
